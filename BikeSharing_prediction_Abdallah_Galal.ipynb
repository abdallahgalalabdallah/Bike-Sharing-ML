{
 "cells": [
  {
   "cell_type": "markdown",
   "id": "9ba41efb",
   "metadata": {},
   "source": [
    "## steps \n",
    "## 1-import libraries and load data and split data into train val \n",
    "## 2-data visulization and eda \n",
    "## 3- data cleaning and prepration \n",
    "## 4- model selection \n",
    "## 5- submit test data  into kaggle "
   ]
  },
  {
   "cell_type": "code",
   "execution_count": 1,
   "id": "aaa63c74",
   "metadata": {},
   "outputs": [
    {
     "name": "stderr",
     "output_type": "stream",
     "text": [
      "C:\\Users\\ALNOUR\\anaconda3\\lib\\site-packages\\scipy\\__init__.py:146: UserWarning: A NumPy version >=1.16.5 and <1.23.0 is required for this version of SciPy (detected version 1.23.5\n",
      "  warnings.warn(f\"A NumPy version >={np_minversion} and <{np_maxversion}\"\n"
     ]
    }
   ],
   "source": [
    "import numpy as np\n",
    "import pandas as pd\n",
    "import matplotlib.pyplot as plt\n",
    "import seaborn as sns"
   ]
  },
  {
   "cell_type": "markdown",
   "id": "9bb2b510",
   "metadata": {},
   "source": [
    "#You are provided hourly rental data spanning two years. For this competition, the training set is comprised of the first 19 days of each month, while the test set is the 20th to the end of the month. You must predict the total count of bikes rented during each hour covered by the test set, using only information available prior to the rental period.\n",
    "Data Fields\n",
    "\n",
    "datetime - hourly date + timestamp  \n",
    "season -  1 = spring, 2 = summer, 3 = fall, 4 = winter \n",
    "holiday - whether the day is considered a holiday\n",
    "workingday - whether the day is neither a weekend nor holiday\n",
    "weather - 1: Clear, Few clouds, Partly cloudy, Partly cloudy\n",
    "2: Mist + Cloudy, Mist + Broken clouds, Mist + Few clouds, Mist\n",
    "3: Light Snow, Light Rain + Thunderstorm + Scattered clouds, Light Rain + Scattered clouds\n",
    "4: Heavy Rain + Ice Pallets + Thunderstorm + Mist, Snow + Fog \n",
    "temp - temperature in Celsius\n",
    "atemp - \"feels like\" temperature in Celsius\n",
    "humidity - relative humidity\n",
    "windspeed - wind speed\n",
    "casual - number of non-registered user rentals initiated\n",
    "registered - number of registered user rentals initiated\n",
    "count - number of total rentals"
   ]
  },
  {
   "cell_type": "markdown",
   "id": "44dd0018",
   "metadata": {},
   "source": [
    "## First data file "
   ]
  },
  {
   "cell_type": "code",
   "execution_count": 2,
   "id": "2e81a6f7",
   "metadata": {},
   "outputs": [],
   "source": [
    "## read train data\n",
    "data=pd.read_csv(r\"D:\\ITI_DATA_Analysis\\Ml\\Project\\Data Set2 Bike Sharng\\train.csv\")\n",
    "\n",
    "## read test data \n",
    "test_data=pd.read_csv(r\"D:\\ITI_DATA_Analysis\\Ml\\Project\\Data Set2 Bike Sharng\\test.csv\")\n",
    "test_data2=pd.read_csv(r\"D:\\ITI_DATA_Analysis\\Ml\\Project\\Data Set2 Bike Sharng\\test.csv\")\n",
    "\n",
    "## save train data on acopy \n",
    "data2=data.copy()"
   ]
  },
  {
   "cell_type": "code",
   "execution_count": 3,
   "id": "686d4aa5",
   "metadata": {},
   "outputs": [
    {
     "data": {
      "text/html": [
       "<div>\n",
       "<style scoped>\n",
       "    .dataframe tbody tr th:only-of-type {\n",
       "        vertical-align: middle;\n",
       "    }\n",
       "\n",
       "    .dataframe tbody tr th {\n",
       "        vertical-align: top;\n",
       "    }\n",
       "\n",
       "    .dataframe thead th {\n",
       "        text-align: right;\n",
       "    }\n",
       "</style>\n",
       "<table border=\"1\" class=\"dataframe\">\n",
       "  <thead>\n",
       "    <tr style=\"text-align: right;\">\n",
       "      <th></th>\n",
       "      <th>datetime</th>\n",
       "      <th>season</th>\n",
       "      <th>holiday</th>\n",
       "      <th>workingday</th>\n",
       "      <th>weather</th>\n",
       "      <th>temp</th>\n",
       "      <th>atemp</th>\n",
       "      <th>humidity</th>\n",
       "      <th>windspeed</th>\n",
       "      <th>casual</th>\n",
       "      <th>registered</th>\n",
       "      <th>count</th>\n",
       "    </tr>\n",
       "  </thead>\n",
       "  <tbody>\n",
       "    <tr>\n",
       "      <th>0</th>\n",
       "      <td>2011-01-01 00:00:00</td>\n",
       "      <td>1</td>\n",
       "      <td>0</td>\n",
       "      <td>0</td>\n",
       "      <td>1</td>\n",
       "      <td>9.84</td>\n",
       "      <td>14.395</td>\n",
       "      <td>81</td>\n",
       "      <td>0.0</td>\n",
       "      <td>3</td>\n",
       "      <td>13</td>\n",
       "      <td>16</td>\n",
       "    </tr>\n",
       "    <tr>\n",
       "      <th>1</th>\n",
       "      <td>2011-01-01 01:00:00</td>\n",
       "      <td>1</td>\n",
       "      <td>0</td>\n",
       "      <td>0</td>\n",
       "      <td>1</td>\n",
       "      <td>9.02</td>\n",
       "      <td>13.635</td>\n",
       "      <td>80</td>\n",
       "      <td>0.0</td>\n",
       "      <td>8</td>\n",
       "      <td>32</td>\n",
       "      <td>40</td>\n",
       "    </tr>\n",
       "    <tr>\n",
       "      <th>2</th>\n",
       "      <td>2011-01-01 02:00:00</td>\n",
       "      <td>1</td>\n",
       "      <td>0</td>\n",
       "      <td>0</td>\n",
       "      <td>1</td>\n",
       "      <td>9.02</td>\n",
       "      <td>13.635</td>\n",
       "      <td>80</td>\n",
       "      <td>0.0</td>\n",
       "      <td>5</td>\n",
       "      <td>27</td>\n",
       "      <td>32</td>\n",
       "    </tr>\n",
       "    <tr>\n",
       "      <th>3</th>\n",
       "      <td>2011-01-01 03:00:00</td>\n",
       "      <td>1</td>\n",
       "      <td>0</td>\n",
       "      <td>0</td>\n",
       "      <td>1</td>\n",
       "      <td>9.84</td>\n",
       "      <td>14.395</td>\n",
       "      <td>75</td>\n",
       "      <td>0.0</td>\n",
       "      <td>3</td>\n",
       "      <td>10</td>\n",
       "      <td>13</td>\n",
       "    </tr>\n",
       "    <tr>\n",
       "      <th>4</th>\n",
       "      <td>2011-01-01 04:00:00</td>\n",
       "      <td>1</td>\n",
       "      <td>0</td>\n",
       "      <td>0</td>\n",
       "      <td>1</td>\n",
       "      <td>9.84</td>\n",
       "      <td>14.395</td>\n",
       "      <td>75</td>\n",
       "      <td>0.0</td>\n",
       "      <td>0</td>\n",
       "      <td>1</td>\n",
       "      <td>1</td>\n",
       "    </tr>\n",
       "  </tbody>\n",
       "</table>\n",
       "</div>"
      ],
      "text/plain": [
       "              datetime  season  holiday  workingday  weather  temp   atemp  \\\n",
       "0  2011-01-01 00:00:00       1        0           0        1  9.84  14.395   \n",
       "1  2011-01-01 01:00:00       1        0           0        1  9.02  13.635   \n",
       "2  2011-01-01 02:00:00       1        0           0        1  9.02  13.635   \n",
       "3  2011-01-01 03:00:00       1        0           0        1  9.84  14.395   \n",
       "4  2011-01-01 04:00:00       1        0           0        1  9.84  14.395   \n",
       "\n",
       "   humidity  windspeed  casual  registered  count  \n",
       "0        81        0.0       3          13     16  \n",
       "1        80        0.0       8          32     40  \n",
       "2        80        0.0       5          27     32  \n",
       "3        75        0.0       3          10     13  \n",
       "4        75        0.0       0           1      1  "
      ]
     },
     "execution_count": 3,
     "metadata": {},
     "output_type": "execute_result"
    }
   ],
   "source": [
    "data2.head()"
   ]
  },
  {
   "cell_type": "markdown",
   "id": "87e35ddf",
   "metadata": {},
   "source": [
    "## I want  to split data into Train data And Validation data "
   ]
  },
  {
   "cell_type": "code",
   "execution_count": 4,
   "id": "19b8fb82",
   "metadata": {},
   "outputs": [],
   "source": [
    "x=data2.drop([\"count\"],axis=1)\n",
    "y=data2[\"count\"]\n",
    "from sklearn.model_selection import train_test_split\n",
    "\n",
    "train_x,val_x,train_y,val_y = train_test_split(x,y, test_size=0.2, random_state=0)\n",
    "val_data=pd.concat([val_x,val_y],axis=1)"
   ]
  },
  {
   "cell_type": "code",
   "execution_count": 5,
   "id": "74151056",
   "metadata": {},
   "outputs": [
    {
     "data": {
      "text/html": [
       "<div>\n",
       "<style scoped>\n",
       "    .dataframe tbody tr th:only-of-type {\n",
       "        vertical-align: middle;\n",
       "    }\n",
       "\n",
       "    .dataframe tbody tr th {\n",
       "        vertical-align: top;\n",
       "    }\n",
       "\n",
       "    .dataframe thead th {\n",
       "        text-align: right;\n",
       "    }\n",
       "</style>\n",
       "<table border=\"1\" class=\"dataframe\">\n",
       "  <thead>\n",
       "    <tr style=\"text-align: right;\">\n",
       "      <th></th>\n",
       "      <th>datetime</th>\n",
       "      <th>season</th>\n",
       "      <th>holiday</th>\n",
       "      <th>workingday</th>\n",
       "      <th>weather</th>\n",
       "      <th>temp</th>\n",
       "      <th>atemp</th>\n",
       "      <th>humidity</th>\n",
       "      <th>windspeed</th>\n",
       "      <th>casual</th>\n",
       "      <th>registered</th>\n",
       "    </tr>\n",
       "  </thead>\n",
       "  <tbody>\n",
       "    <tr>\n",
       "      <th>3662</th>\n",
       "      <td>2011-09-03 12:00:00</td>\n",
       "      <td>3</td>\n",
       "      <td>0</td>\n",
       "      <td>0</td>\n",
       "      <td>1</td>\n",
       "      <td>28.70</td>\n",
       "      <td>32.575</td>\n",
       "      <td>61</td>\n",
       "      <td>15.0013</td>\n",
       "      <td>97</td>\n",
       "      <td>160</td>\n",
       "    </tr>\n",
       "    <tr>\n",
       "      <th>8648</th>\n",
       "      <td>2012-08-02 17:00:00</td>\n",
       "      <td>3</td>\n",
       "      <td>0</td>\n",
       "      <td>1</td>\n",
       "      <td>1</td>\n",
       "      <td>33.62</td>\n",
       "      <td>38.635</td>\n",
       "      <td>52</td>\n",
       "      <td>16.9979</td>\n",
       "      <td>90</td>\n",
       "      <td>775</td>\n",
       "    </tr>\n",
       "    <tr>\n",
       "      <th>7053</th>\n",
       "      <td>2012-04-12 06:00:00</td>\n",
       "      <td>2</td>\n",
       "      <td>0</td>\n",
       "      <td>1</td>\n",
       "      <td>1</td>\n",
       "      <td>12.30</td>\n",
       "      <td>14.395</td>\n",
       "      <td>65</td>\n",
       "      <td>16.9979</td>\n",
       "      <td>2</td>\n",
       "      <td>94</td>\n",
       "    </tr>\n",
       "    <tr>\n",
       "      <th>2685</th>\n",
       "      <td>2011-06-19 19:00:00</td>\n",
       "      <td>2</td>\n",
       "      <td>0</td>\n",
       "      <td>0</td>\n",
       "      <td>1</td>\n",
       "      <td>29.52</td>\n",
       "      <td>34.090</td>\n",
       "      <td>62</td>\n",
       "      <td>8.9981</td>\n",
       "      <td>94</td>\n",
       "      <td>217</td>\n",
       "    </tr>\n",
       "    <tr>\n",
       "      <th>5927</th>\n",
       "      <td>2012-02-03 04:00:00</td>\n",
       "      <td>1</td>\n",
       "      <td>0</td>\n",
       "      <td>1</td>\n",
       "      <td>1</td>\n",
       "      <td>10.66</td>\n",
       "      <td>12.880</td>\n",
       "      <td>60</td>\n",
       "      <td>15.0013</td>\n",
       "      <td>0</td>\n",
       "      <td>2</td>\n",
       "    </tr>\n",
       "  </tbody>\n",
       "</table>\n",
       "</div>"
      ],
      "text/plain": [
       "                 datetime  season  holiday  workingday  weather   temp  \\\n",
       "3662  2011-09-03 12:00:00       3        0           0        1  28.70   \n",
       "8648  2012-08-02 17:00:00       3        0           1        1  33.62   \n",
       "7053  2012-04-12 06:00:00       2        0           1        1  12.30   \n",
       "2685  2011-06-19 19:00:00       2        0           0        1  29.52   \n",
       "5927  2012-02-03 04:00:00       1        0           1        1  10.66   \n",
       "\n",
       "       atemp  humidity  windspeed  casual  registered  \n",
       "3662  32.575        61    15.0013      97         160  \n",
       "8648  38.635        52    16.9979      90         775  \n",
       "7053  14.395        65    16.9979       2          94  \n",
       "2685  34.090        62     8.9981      94         217  \n",
       "5927  12.880        60    15.0013       0           2  "
      ]
     },
     "execution_count": 5,
     "metadata": {},
     "output_type": "execute_result"
    }
   ],
   "source": [
    "train_x.head(5)"
   ]
  },
  {
   "cell_type": "markdown",
   "id": "565a2f7c",
   "metadata": {},
   "source": [
    "## Now let me made  exploare train data EDA"
   ]
  },
  {
   "cell_type": "code",
   "execution_count": 6,
   "id": "47b4af70",
   "metadata": {},
   "outputs": [
    {
     "data": {
      "text/html": [
       "<div>\n",
       "<style scoped>\n",
       "    .dataframe tbody tr th:only-of-type {\n",
       "        vertical-align: middle;\n",
       "    }\n",
       "\n",
       "    .dataframe tbody tr th {\n",
       "        vertical-align: top;\n",
       "    }\n",
       "\n",
       "    .dataframe thead th {\n",
       "        text-align: right;\n",
       "    }\n",
       "</style>\n",
       "<table border=\"1\" class=\"dataframe\">\n",
       "  <thead>\n",
       "    <tr style=\"text-align: right;\">\n",
       "      <th></th>\n",
       "      <th>datetime</th>\n",
       "      <th>season</th>\n",
       "      <th>holiday</th>\n",
       "      <th>workingday</th>\n",
       "      <th>weather</th>\n",
       "      <th>temp</th>\n",
       "      <th>atemp</th>\n",
       "      <th>humidity</th>\n",
       "      <th>windspeed</th>\n",
       "      <th>casual</th>\n",
       "      <th>registered</th>\n",
       "      <th>count</th>\n",
       "    </tr>\n",
       "  </thead>\n",
       "  <tbody>\n",
       "    <tr>\n",
       "      <th>3662</th>\n",
       "      <td>2011-09-03 12:00:00</td>\n",
       "      <td>3</td>\n",
       "      <td>0</td>\n",
       "      <td>0</td>\n",
       "      <td>1</td>\n",
       "      <td>28.70</td>\n",
       "      <td>32.575</td>\n",
       "      <td>61</td>\n",
       "      <td>15.0013</td>\n",
       "      <td>97</td>\n",
       "      <td>160</td>\n",
       "      <td>257</td>\n",
       "    </tr>\n",
       "    <tr>\n",
       "      <th>8648</th>\n",
       "      <td>2012-08-02 17:00:00</td>\n",
       "      <td>3</td>\n",
       "      <td>0</td>\n",
       "      <td>1</td>\n",
       "      <td>1</td>\n",
       "      <td>33.62</td>\n",
       "      <td>38.635</td>\n",
       "      <td>52</td>\n",
       "      <td>16.9979</td>\n",
       "      <td>90</td>\n",
       "      <td>775</td>\n",
       "      <td>865</td>\n",
       "    </tr>\n",
       "    <tr>\n",
       "      <th>7053</th>\n",
       "      <td>2012-04-12 06:00:00</td>\n",
       "      <td>2</td>\n",
       "      <td>0</td>\n",
       "      <td>1</td>\n",
       "      <td>1</td>\n",
       "      <td>12.30</td>\n",
       "      <td>14.395</td>\n",
       "      <td>65</td>\n",
       "      <td>16.9979</td>\n",
       "      <td>2</td>\n",
       "      <td>94</td>\n",
       "      <td>96</td>\n",
       "    </tr>\n",
       "    <tr>\n",
       "      <th>2685</th>\n",
       "      <td>2011-06-19 19:00:00</td>\n",
       "      <td>2</td>\n",
       "      <td>0</td>\n",
       "      <td>0</td>\n",
       "      <td>1</td>\n",
       "      <td>29.52</td>\n",
       "      <td>34.090</td>\n",
       "      <td>62</td>\n",
       "      <td>8.9981</td>\n",
       "      <td>94</td>\n",
       "      <td>217</td>\n",
       "      <td>311</td>\n",
       "    </tr>\n",
       "    <tr>\n",
       "      <th>5927</th>\n",
       "      <td>2012-02-03 04:00:00</td>\n",
       "      <td>1</td>\n",
       "      <td>0</td>\n",
       "      <td>1</td>\n",
       "      <td>1</td>\n",
       "      <td>10.66</td>\n",
       "      <td>12.880</td>\n",
       "      <td>60</td>\n",
       "      <td>15.0013</td>\n",
       "      <td>0</td>\n",
       "      <td>2</td>\n",
       "      <td>2</td>\n",
       "    </tr>\n",
       "    <tr>\n",
       "      <th>...</th>\n",
       "      <td>...</td>\n",
       "      <td>...</td>\n",
       "      <td>...</td>\n",
       "      <td>...</td>\n",
       "      <td>...</td>\n",
       "      <td>...</td>\n",
       "      <td>...</td>\n",
       "      <td>...</td>\n",
       "      <td>...</td>\n",
       "      <td>...</td>\n",
       "      <td>...</td>\n",
       "      <td>...</td>\n",
       "    </tr>\n",
       "    <tr>\n",
       "      <th>4859</th>\n",
       "      <td>2011-11-15 13:00:00</td>\n",
       "      <td>4</td>\n",
       "      <td>0</td>\n",
       "      <td>1</td>\n",
       "      <td>3</td>\n",
       "      <td>22.14</td>\n",
       "      <td>25.760</td>\n",
       "      <td>60</td>\n",
       "      <td>15.0013</td>\n",
       "      <td>21</td>\n",
       "      <td>132</td>\n",
       "      <td>153</td>\n",
       "    </tr>\n",
       "    <tr>\n",
       "      <th>3264</th>\n",
       "      <td>2011-08-05 22:00:00</td>\n",
       "      <td>3</td>\n",
       "      <td>0</td>\n",
       "      <td>1</td>\n",
       "      <td>1</td>\n",
       "      <td>28.70</td>\n",
       "      <td>32.575</td>\n",
       "      <td>65</td>\n",
       "      <td>15.0013</td>\n",
       "      <td>51</td>\n",
       "      <td>137</td>\n",
       "      <td>188</td>\n",
       "    </tr>\n",
       "    <tr>\n",
       "      <th>9845</th>\n",
       "      <td>2012-10-14 14:00:00</td>\n",
       "      <td>4</td>\n",
       "      <td>0</td>\n",
       "      <td>0</td>\n",
       "      <td>1</td>\n",
       "      <td>27.06</td>\n",
       "      <td>31.060</td>\n",
       "      <td>39</td>\n",
       "      <td>27.9993</td>\n",
       "      <td>249</td>\n",
       "      <td>368</td>\n",
       "      <td>617</td>\n",
       "    </tr>\n",
       "    <tr>\n",
       "      <th>10799</th>\n",
       "      <td>2012-12-16 09:00:00</td>\n",
       "      <td>4</td>\n",
       "      <td>0</td>\n",
       "      <td>0</td>\n",
       "      <td>2</td>\n",
       "      <td>14.76</td>\n",
       "      <td>17.425</td>\n",
       "      <td>87</td>\n",
       "      <td>8.9981</td>\n",
       "      <td>19</td>\n",
       "      <td>113</td>\n",
       "      <td>132</td>\n",
       "    </tr>\n",
       "    <tr>\n",
       "      <th>2732</th>\n",
       "      <td>2011-07-02 18:00:00</td>\n",
       "      <td>3</td>\n",
       "      <td>0</td>\n",
       "      <td>0</td>\n",
       "      <td>1</td>\n",
       "      <td>33.62</td>\n",
       "      <td>35.605</td>\n",
       "      <td>30</td>\n",
       "      <td>19.0012</td>\n",
       "      <td>193</td>\n",
       "      <td>190</td>\n",
       "      <td>383</td>\n",
       "    </tr>\n",
       "  </tbody>\n",
       "</table>\n",
       "<p>8708 rows × 12 columns</p>\n",
       "</div>"
      ],
      "text/plain": [
       "                  datetime  season  holiday  workingday  weather   temp  \\\n",
       "3662   2011-09-03 12:00:00       3        0           0        1  28.70   \n",
       "8648   2012-08-02 17:00:00       3        0           1        1  33.62   \n",
       "7053   2012-04-12 06:00:00       2        0           1        1  12.30   \n",
       "2685   2011-06-19 19:00:00       2        0           0        1  29.52   \n",
       "5927   2012-02-03 04:00:00       1        0           1        1  10.66   \n",
       "...                    ...     ...      ...         ...      ...    ...   \n",
       "4859   2011-11-15 13:00:00       4        0           1        3  22.14   \n",
       "3264   2011-08-05 22:00:00       3        0           1        1  28.70   \n",
       "9845   2012-10-14 14:00:00       4        0           0        1  27.06   \n",
       "10799  2012-12-16 09:00:00       4        0           0        2  14.76   \n",
       "2732   2011-07-02 18:00:00       3        0           0        1  33.62   \n",
       "\n",
       "        atemp  humidity  windspeed  casual  registered  count  \n",
       "3662   32.575        61    15.0013      97         160    257  \n",
       "8648   38.635        52    16.9979      90         775    865  \n",
       "7053   14.395        65    16.9979       2          94     96  \n",
       "2685   34.090        62     8.9981      94         217    311  \n",
       "5927   12.880        60    15.0013       0           2      2  \n",
       "...       ...       ...        ...     ...         ...    ...  \n",
       "4859   25.760        60    15.0013      21         132    153  \n",
       "3264   32.575        65    15.0013      51         137    188  \n",
       "9845   31.060        39    27.9993     249         368    617  \n",
       "10799  17.425        87     8.9981      19         113    132  \n",
       "2732   35.605        30    19.0012     193         190    383  \n",
       "\n",
       "[8708 rows x 12 columns]"
      ]
     },
     "execution_count": 6,
     "metadata": {},
     "output_type": "execute_result"
    }
   ],
   "source": [
    "## first i wii join train_x with train_y to made me  explorae data \n",
    "train_data=pd.concat([train_x,train_y],axis=1)\n",
    "train_data"
   ]
  },
  {
   "cell_type": "code",
   "execution_count": 7,
   "id": "19268f54",
   "metadata": {},
   "outputs": [
    {
     "name": "stdout",
     "output_type": "stream",
     "text": [
      "<class 'pandas.core.frame.DataFrame'>\n",
      "Int64Index: 8708 entries, 3662 to 2732\n",
      "Data columns (total 12 columns):\n",
      " #   Column      Non-Null Count  Dtype  \n",
      "---  ------      --------------  -----  \n",
      " 0   datetime    8708 non-null   object \n",
      " 1   season      8708 non-null   int64  \n",
      " 2   holiday     8708 non-null   int64  \n",
      " 3   workingday  8708 non-null   int64  \n",
      " 4   weather     8708 non-null   int64  \n",
      " 5   temp        8708 non-null   float64\n",
      " 6   atemp       8708 non-null   float64\n",
      " 7   humidity    8708 non-null   int64  \n",
      " 8   windspeed   8708 non-null   float64\n",
      " 9   casual      8708 non-null   int64  \n",
      " 10  registered  8708 non-null   int64  \n",
      " 11  count       8708 non-null   int64  \n",
      "dtypes: float64(3), int64(8), object(1)\n",
      "memory usage: 884.4+ KB\n"
     ]
    }
   ],
   "source": [
    "##  let me see information about data \n",
    "train_data.info()"
   ]
  },
  {
   "cell_type": "markdown",
   "id": "bd8381f0",
   "metadata": {},
   "source": [
    "## i did not find any missing value on any column !!! \n",
    "## all data types is good but data is object!!!!"
   ]
  },
  {
   "cell_type": "code",
   "execution_count": 8,
   "id": "8df3e78b",
   "metadata": {},
   "outputs": [
    {
     "data": {
      "text/html": [
       "<div>\n",
       "<style scoped>\n",
       "    .dataframe tbody tr th:only-of-type {\n",
       "        vertical-align: middle;\n",
       "    }\n",
       "\n",
       "    .dataframe tbody tr th {\n",
       "        vertical-align: top;\n",
       "    }\n",
       "\n",
       "    .dataframe thead th {\n",
       "        text-align: right;\n",
       "    }\n",
       "</style>\n",
       "<table border=\"1\" class=\"dataframe\">\n",
       "  <thead>\n",
       "    <tr style=\"text-align: right;\">\n",
       "      <th></th>\n",
       "      <th>season</th>\n",
       "      <th>holiday</th>\n",
       "      <th>workingday</th>\n",
       "      <th>weather</th>\n",
       "      <th>temp</th>\n",
       "      <th>atemp</th>\n",
       "      <th>humidity</th>\n",
       "      <th>windspeed</th>\n",
       "      <th>casual</th>\n",
       "      <th>registered</th>\n",
       "      <th>count</th>\n",
       "    </tr>\n",
       "  </thead>\n",
       "  <tbody>\n",
       "    <tr>\n",
       "      <th>count</th>\n",
       "      <td>8708.000000</td>\n",
       "      <td>8708.000000</td>\n",
       "      <td>8708.000000</td>\n",
       "      <td>8708.000000</td>\n",
       "      <td>8708.000000</td>\n",
       "      <td>8708.000000</td>\n",
       "      <td>8708.000000</td>\n",
       "      <td>8708.000000</td>\n",
       "      <td>8708.000000</td>\n",
       "      <td>8708.000000</td>\n",
       "      <td>8708.000000</td>\n",
       "    </tr>\n",
       "    <tr>\n",
       "      <th>mean</th>\n",
       "      <td>2.496899</td>\n",
       "      <td>0.029513</td>\n",
       "      <td>0.679835</td>\n",
       "      <td>1.413413</td>\n",
       "      <td>20.151585</td>\n",
       "      <td>23.566106</td>\n",
       "      <td>61.778824</td>\n",
       "      <td>12.848368</td>\n",
       "      <td>35.888723</td>\n",
       "      <td>154.966812</td>\n",
       "      <td>190.855535</td>\n",
       "    </tr>\n",
       "    <tr>\n",
       "      <th>std</th>\n",
       "      <td>1.118607</td>\n",
       "      <td>0.169249</td>\n",
       "      <td>0.466567</td>\n",
       "      <td>0.628714</td>\n",
       "      <td>7.772519</td>\n",
       "      <td>8.461146</td>\n",
       "      <td>19.201010</td>\n",
       "      <td>8.242156</td>\n",
       "      <td>49.837535</td>\n",
       "      <td>150.871639</td>\n",
       "      <td>180.852259</td>\n",
       "    </tr>\n",
       "    <tr>\n",
       "      <th>min</th>\n",
       "      <td>1.000000</td>\n",
       "      <td>0.000000</td>\n",
       "      <td>0.000000</td>\n",
       "      <td>1.000000</td>\n",
       "      <td>0.820000</td>\n",
       "      <td>2.275000</td>\n",
       "      <td>0.000000</td>\n",
       "      <td>0.000000</td>\n",
       "      <td>0.000000</td>\n",
       "      <td>0.000000</td>\n",
       "      <td>1.000000</td>\n",
       "    </tr>\n",
       "    <tr>\n",
       "      <th>25%</th>\n",
       "      <td>1.000000</td>\n",
       "      <td>0.000000</td>\n",
       "      <td>0.000000</td>\n",
       "      <td>1.000000</td>\n",
       "      <td>13.940000</td>\n",
       "      <td>16.665000</td>\n",
       "      <td>46.750000</td>\n",
       "      <td>7.001500</td>\n",
       "      <td>4.000000</td>\n",
       "      <td>36.000000</td>\n",
       "      <td>43.000000</td>\n",
       "    </tr>\n",
       "    <tr>\n",
       "      <th>50%</th>\n",
       "      <td>2.000000</td>\n",
       "      <td>0.000000</td>\n",
       "      <td>1.000000</td>\n",
       "      <td>1.000000</td>\n",
       "      <td>20.500000</td>\n",
       "      <td>24.240000</td>\n",
       "      <td>62.000000</td>\n",
       "      <td>12.998000</td>\n",
       "      <td>16.000000</td>\n",
       "      <td>117.000000</td>\n",
       "      <td>143.000000</td>\n",
       "    </tr>\n",
       "    <tr>\n",
       "      <th>75%</th>\n",
       "      <td>4.000000</td>\n",
       "      <td>0.000000</td>\n",
       "      <td>1.000000</td>\n",
       "      <td>2.000000</td>\n",
       "      <td>26.240000</td>\n",
       "      <td>31.060000</td>\n",
       "      <td>77.000000</td>\n",
       "      <td>16.997900</td>\n",
       "      <td>48.000000</td>\n",
       "      <td>222.000000</td>\n",
       "      <td>285.000000</td>\n",
       "    </tr>\n",
       "    <tr>\n",
       "      <th>max</th>\n",
       "      <td>4.000000</td>\n",
       "      <td>1.000000</td>\n",
       "      <td>1.000000</td>\n",
       "      <td>4.000000</td>\n",
       "      <td>41.000000</td>\n",
       "      <td>45.455000</td>\n",
       "      <td>100.000000</td>\n",
       "      <td>56.996900</td>\n",
       "      <td>367.000000</td>\n",
       "      <td>886.000000</td>\n",
       "      <td>977.000000</td>\n",
       "    </tr>\n",
       "  </tbody>\n",
       "</table>\n",
       "</div>"
      ],
      "text/plain": [
       "            season      holiday   workingday      weather         temp  \\\n",
       "count  8708.000000  8708.000000  8708.000000  8708.000000  8708.000000   \n",
       "mean      2.496899     0.029513     0.679835     1.413413    20.151585   \n",
       "std       1.118607     0.169249     0.466567     0.628714     7.772519   \n",
       "min       1.000000     0.000000     0.000000     1.000000     0.820000   \n",
       "25%       1.000000     0.000000     0.000000     1.000000    13.940000   \n",
       "50%       2.000000     0.000000     1.000000     1.000000    20.500000   \n",
       "75%       4.000000     0.000000     1.000000     2.000000    26.240000   \n",
       "max       4.000000     1.000000     1.000000     4.000000    41.000000   \n",
       "\n",
       "             atemp     humidity    windspeed       casual   registered  \\\n",
       "count  8708.000000  8708.000000  8708.000000  8708.000000  8708.000000   \n",
       "mean     23.566106    61.778824    12.848368    35.888723   154.966812   \n",
       "std       8.461146    19.201010     8.242156    49.837535   150.871639   \n",
       "min       2.275000     0.000000     0.000000     0.000000     0.000000   \n",
       "25%      16.665000    46.750000     7.001500     4.000000    36.000000   \n",
       "50%      24.240000    62.000000    12.998000    16.000000   117.000000   \n",
       "75%      31.060000    77.000000    16.997900    48.000000   222.000000   \n",
       "max      45.455000   100.000000    56.996900   367.000000   886.000000   \n",
       "\n",
       "             count  \n",
       "count  8708.000000  \n",
       "mean    190.855535  \n",
       "std     180.852259  \n",
       "min       1.000000  \n",
       "25%      43.000000  \n",
       "50%     143.000000  \n",
       "75%     285.000000  \n",
       "max     977.000000  "
      ]
     },
     "execution_count": 8,
     "metadata": {},
     "output_type": "execute_result"
    }
   ],
   "source": [
    "### let me show describe of data statstical summary about data \n",
    "### categorical column like season holiday weather not faire to appear here do not look at them\n",
    "train_data.describe()"
   ]
  },
  {
   "cell_type": "markdown",
   "id": "6aac2499",
   "metadata": {},
   "source": [
    "## let me see traget column   and relation between numeric column and target column by using scatter plot "
   ]
  },
  {
   "cell_type": "code",
   "execution_count": 9,
   "id": "52c8594c",
   "metadata": {},
   "outputs": [
    {
     "data": {
      "text/plain": [
       "<AxesSubplot:xlabel='count'>"
      ]
     },
     "execution_count": 9,
     "metadata": {},
     "output_type": "execute_result"
    },
    {
     "data": {
      "image/png": "[encoded data removed]",
      "text/plain": [
       "<Figure size 432x288 with 1 Axes>"
      ]
     },
     "metadata": {
      "needs_background": "light"
     },
     "output_type": "display_data"
    }
   ],
   "source": [
    "## first i  want to see if the target colunm contain outliers or not i will draw boxplot \n",
    "sns.boxplot(x=\"count\",data=train_data)"
   ]
  },
  {
   "cell_type": "markdown",
   "id": "baad7c03",
   "metadata": {},
   "source": [
    "### from box plot  i can say that  most of the data almost  lies between 30 and 300 and  we find a huge number of outliers  after 600"
   ]
  },
  {
   "cell_type": "code",
   "execution_count": 10,
   "id": "373f9df4",
   "metadata": {},
   "outputs": [
    {
     "data": {
      "text/plain": [
       "<AxesSubplot:xlabel='count', ylabel='Count'>"
      ]
     },
     "execution_count": 10,
     "metadata": {},
     "output_type": "execute_result"
    },
    {
     "data": {
      "image/png": "[encoded data removed]",
      "text/plain": [
       "<Figure size 432x288 with 1 Axes>"
      ]
     },
     "metadata": {
      "needs_background": "light"
     },
     "output_type": "display_data"
    }
   ],
   "source": [
    "## let me draw historam to count colum to see it is distribuation \n",
    "sns.histplot(x=\"count\",data=train_data)"
   ]
  },
  {
   "cell_type": "markdown",
   "id": "7bd6463a",
   "metadata": {},
   "source": [
    "## look at this it is right skewed i think this happened because outliers effect"
   ]
  },
  {
   "cell_type": "markdown",
   "id": "a4a58a29",
   "metadata": {},
   "source": [
    "## Now let me see scatter plot count and numeric features \n"
   ]
  },
  {
   "cell_type": "code",
   "execution_count": 11,
   "id": "7665802d",
   "metadata": {},
   "outputs": [
    {
     "data": {
      "image/png": "[encoded data removed]",
      "text/plain": [
       "<Figure size 432x288 with 1 Axes>"
      ]
     },
     "metadata": {
      "needs_background": "light"
     },
     "output_type": "display_data"
    },
    {
     "data": {
      "image/png": "[encoded data removed]",
      "text/plain": [
       "<Figure size 432x288 with 1 Axes>"
      ]
     },
     "metadata": {
      "needs_background": "light"
     },
     "output_type": "display_data"
    },
    {
     "data": {
      "image/png": "[encoded data removed]",
      "text/plain": [
       "<Figure size 432x288 with 1 Axes>"
      ]
     },
     "metadata": {
      "needs_background": "light"
     },
     "output_type": "display_data"
    },
    {
     "data": {
      "image/png": "[encoded data removed]",
      "text/plain": [
       "<Figure size 432x288 with 1 Axes>"
      ]
     },
     "metadata": {
      "needs_background": "light"
     },
     "output_type": "display_data"
    }
   ],
   "source": [
    "## let me create list have numeric columns without caluse and registred column becauese count derived\n",
    "##from them caluse+regis=count\n",
    "features=[f for f in train_data.columns]\n",
    "features=features[5:-3]\n",
    "for f in features:\n",
    "    sns.scatterplot(x=str(f),y=\"count\",data=train_data)\n",
    "    plt.show()"
   ]
  },
  {
   "cell_type": "code",
   "execution_count": 12,
   "id": "307e1656",
   "metadata": {},
   "outputs": [
    {
     "data": {
      "text/plain": [
       "<AxesSubplot:xlabel='temp', ylabel='atemp'>"
      ]
     },
     "execution_count": 12,
     "metadata": {},
     "output_type": "execute_result"
    },
    {
     "data": {
      "image/png": "[encoded data removed]",
      "text/plain": [
       "<Figure size 432x288 with 1 Axes>"
      ]
     },
     "metadata": {
      "needs_background": "light"
     },
     "output_type": "display_data"
    }
   ],
   "source": [
    "sns.scatterplot(x=\"temp\",y=\"atemp\",data=train_data)"
   ]
  },
  {
   "cell_type": "code",
   "execution_count": 13,
   "id": "a44738c4",
   "metadata": {},
   "outputs": [
    {
     "data": {
      "text/html": [
       "<div>\n",
       "<style scoped>\n",
       "    .dataframe tbody tr th:only-of-type {\n",
       "        vertical-align: middle;\n",
       "    }\n",
       "\n",
       "    .dataframe tbody tr th {\n",
       "        vertical-align: top;\n",
       "    }\n",
       "\n",
       "    .dataframe thead th {\n",
       "        text-align: right;\n",
       "    }\n",
       "</style>\n",
       "<table border=\"1\" class=\"dataframe\">\n",
       "  <thead>\n",
       "    <tr style=\"text-align: right;\">\n",
       "      <th></th>\n",
       "      <th>datetime</th>\n",
       "      <th>season</th>\n",
       "      <th>holiday</th>\n",
       "      <th>workingday</th>\n",
       "      <th>weather</th>\n",
       "      <th>temp</th>\n",
       "      <th>atemp</th>\n",
       "      <th>humidity</th>\n",
       "      <th>windspeed</th>\n",
       "      <th>casual</th>\n",
       "      <th>registered</th>\n",
       "      <th>count</th>\n",
       "    </tr>\n",
       "  </thead>\n",
       "  <tbody>\n",
       "    <tr>\n",
       "      <th>8991</th>\n",
       "      <td>2012-08-17 00:00:00</td>\n",
       "      <td>3</td>\n",
       "      <td>0</td>\n",
       "      <td>1</td>\n",
       "      <td>1</td>\n",
       "      <td>27.88</td>\n",
       "      <td>12.12</td>\n",
       "      <td>57</td>\n",
       "      <td>11.0014</td>\n",
       "      <td>21</td>\n",
       "      <td>67</td>\n",
       "      <td>88</td>\n",
       "    </tr>\n",
       "    <tr>\n",
       "      <th>8996</th>\n",
       "      <td>2012-08-17 05:00:00</td>\n",
       "      <td>3</td>\n",
       "      <td>0</td>\n",
       "      <td>1</td>\n",
       "      <td>1</td>\n",
       "      <td>26.24</td>\n",
       "      <td>12.12</td>\n",
       "      <td>73</td>\n",
       "      <td>7.0015</td>\n",
       "      <td>2</td>\n",
       "      <td>34</td>\n",
       "      <td>36</td>\n",
       "    </tr>\n",
       "    <tr>\n",
       "      <th>9004</th>\n",
       "      <td>2012-08-17 13:00:00</td>\n",
       "      <td>3</td>\n",
       "      <td>0</td>\n",
       "      <td>1</td>\n",
       "      <td>1</td>\n",
       "      <td>34.44</td>\n",
       "      <td>12.12</td>\n",
       "      <td>36</td>\n",
       "      <td>26.0027</td>\n",
       "      <td>103</td>\n",
       "      <td>254</td>\n",
       "      <td>357</td>\n",
       "    </tr>\n",
       "    <tr>\n",
       "      <th>8992</th>\n",
       "      <td>2012-08-17 01:00:00</td>\n",
       "      <td>3</td>\n",
       "      <td>0</td>\n",
       "      <td>1</td>\n",
       "      <td>1</td>\n",
       "      <td>27.06</td>\n",
       "      <td>12.12</td>\n",
       "      <td>65</td>\n",
       "      <td>7.0015</td>\n",
       "      <td>16</td>\n",
       "      <td>38</td>\n",
       "      <td>54</td>\n",
       "    </tr>\n",
       "    <tr>\n",
       "      <th>9009</th>\n",
       "      <td>2012-08-17 18:00:00</td>\n",
       "      <td>3</td>\n",
       "      <td>0</td>\n",
       "      <td>1</td>\n",
       "      <td>2</td>\n",
       "      <td>33.62</td>\n",
       "      <td>12.12</td>\n",
       "      <td>38</td>\n",
       "      <td>16.9979</td>\n",
       "      <td>108</td>\n",
       "      <td>561</td>\n",
       "      <td>669</td>\n",
       "    </tr>\n",
       "    <tr>\n",
       "      <th>8995</th>\n",
       "      <td>2012-08-17 04:00:00</td>\n",
       "      <td>3</td>\n",
       "      <td>0</td>\n",
       "      <td>1</td>\n",
       "      <td>1</td>\n",
       "      <td>26.24</td>\n",
       "      <td>12.12</td>\n",
       "      <td>73</td>\n",
       "      <td>11.0014</td>\n",
       "      <td>0</td>\n",
       "      <td>9</td>\n",
       "      <td>9</td>\n",
       "    </tr>\n",
       "    <tr>\n",
       "      <th>9007</th>\n",
       "      <td>2012-08-17 16:00:00</td>\n",
       "      <td>3</td>\n",
       "      <td>0</td>\n",
       "      <td>1</td>\n",
       "      <td>2</td>\n",
       "      <td>34.44</td>\n",
       "      <td>12.12</td>\n",
       "      <td>32</td>\n",
       "      <td>30.0026</td>\n",
       "      <td>116</td>\n",
       "      <td>372</td>\n",
       "      <td>488</td>\n",
       "    </tr>\n",
       "    <tr>\n",
       "      <th>9011</th>\n",
       "      <td>2012-08-17 20:00:00</td>\n",
       "      <td>3</td>\n",
       "      <td>0</td>\n",
       "      <td>1</td>\n",
       "      <td>2</td>\n",
       "      <td>29.52</td>\n",
       "      <td>12.12</td>\n",
       "      <td>58</td>\n",
       "      <td>15.0013</td>\n",
       "      <td>97</td>\n",
       "      <td>262</td>\n",
       "      <td>359</td>\n",
       "    </tr>\n",
       "    <tr>\n",
       "      <th>8999</th>\n",
       "      <td>2012-08-17 08:00:00</td>\n",
       "      <td>3</td>\n",
       "      <td>0</td>\n",
       "      <td>1</td>\n",
       "      <td>1</td>\n",
       "      <td>27.88</td>\n",
       "      <td>12.12</td>\n",
       "      <td>65</td>\n",
       "      <td>8.9981</td>\n",
       "      <td>43</td>\n",
       "      <td>625</td>\n",
       "      <td>668</td>\n",
       "    </tr>\n",
       "    <tr>\n",
       "      <th>9002</th>\n",
       "      <td>2012-08-17 11:00:00</td>\n",
       "      <td>3</td>\n",
       "      <td>0</td>\n",
       "      <td>1</td>\n",
       "      <td>1</td>\n",
       "      <td>31.16</td>\n",
       "      <td>12.12</td>\n",
       "      <td>52</td>\n",
       "      <td>19.0012</td>\n",
       "      <td>98</td>\n",
       "      <td>205</td>\n",
       "      <td>303</td>\n",
       "    </tr>\n",
       "    <tr>\n",
       "      <th>9005</th>\n",
       "      <td>2012-08-17 14:00:00</td>\n",
       "      <td>3</td>\n",
       "      <td>0</td>\n",
       "      <td>1</td>\n",
       "      <td>1</td>\n",
       "      <td>35.26</td>\n",
       "      <td>12.12</td>\n",
       "      <td>34</td>\n",
       "      <td>27.9993</td>\n",
       "      <td>128</td>\n",
       "      <td>200</td>\n",
       "      <td>328</td>\n",
       "    </tr>\n",
       "    <tr>\n",
       "      <th>8998</th>\n",
       "      <td>2012-08-17 07:00:00</td>\n",
       "      <td>3</td>\n",
       "      <td>0</td>\n",
       "      <td>1</td>\n",
       "      <td>1</td>\n",
       "      <td>26.24</td>\n",
       "      <td>12.12</td>\n",
       "      <td>73</td>\n",
       "      <td>7.0015</td>\n",
       "      <td>11</td>\n",
       "      <td>368</td>\n",
       "      <td>379</td>\n",
       "    </tr>\n",
       "    <tr>\n",
       "      <th>8997</th>\n",
       "      <td>2012-08-17 06:00:00</td>\n",
       "      <td>3</td>\n",
       "      <td>0</td>\n",
       "      <td>1</td>\n",
       "      <td>1</td>\n",
       "      <td>25.42</td>\n",
       "      <td>12.12</td>\n",
       "      <td>78</td>\n",
       "      <td>8.9981</td>\n",
       "      <td>6</td>\n",
       "      <td>151</td>\n",
       "      <td>157</td>\n",
       "    </tr>\n",
       "    <tr>\n",
       "      <th>9012</th>\n",
       "      <td>2012-08-17 21:00:00</td>\n",
       "      <td>3</td>\n",
       "      <td>0</td>\n",
       "      <td>1</td>\n",
       "      <td>2</td>\n",
       "      <td>27.88</td>\n",
       "      <td>12.12</td>\n",
       "      <td>69</td>\n",
       "      <td>19.9995</td>\n",
       "      <td>57</td>\n",
       "      <td>198</td>\n",
       "      <td>255</td>\n",
       "    </tr>\n",
       "    <tr>\n",
       "      <th>9014</th>\n",
       "      <td>2012-08-17 23:00:00</td>\n",
       "      <td>3</td>\n",
       "      <td>0</td>\n",
       "      <td>1</td>\n",
       "      <td>3</td>\n",
       "      <td>26.24</td>\n",
       "      <td>12.12</td>\n",
       "      <td>83</td>\n",
       "      <td>15.0013</td>\n",
       "      <td>21</td>\n",
       "      <td>100</td>\n",
       "      <td>121</td>\n",
       "    </tr>\n",
       "    <tr>\n",
       "      <th>9010</th>\n",
       "      <td>2012-08-17 19:00:00</td>\n",
       "      <td>3</td>\n",
       "      <td>0</td>\n",
       "      <td>1</td>\n",
       "      <td>2</td>\n",
       "      <td>30.34</td>\n",
       "      <td>12.12</td>\n",
       "      <td>55</td>\n",
       "      <td>26.0027</td>\n",
       "      <td>88</td>\n",
       "      <td>403</td>\n",
       "      <td>491</td>\n",
       "    </tr>\n",
       "    <tr>\n",
       "      <th>8993</th>\n",
       "      <td>2012-08-17 02:00:00</td>\n",
       "      <td>3</td>\n",
       "      <td>0</td>\n",
       "      <td>1</td>\n",
       "      <td>1</td>\n",
       "      <td>27.06</td>\n",
       "      <td>12.12</td>\n",
       "      <td>61</td>\n",
       "      <td>8.9981</td>\n",
       "      <td>4</td>\n",
       "      <td>15</td>\n",
       "      <td>19</td>\n",
       "    </tr>\n",
       "    <tr>\n",
       "      <th>9006</th>\n",
       "      <td>2012-08-17 15:00:00</td>\n",
       "      <td>3</td>\n",
       "      <td>0</td>\n",
       "      <td>1</td>\n",
       "      <td>1</td>\n",
       "      <td>35.26</td>\n",
       "      <td>12.12</td>\n",
       "      <td>30</td>\n",
       "      <td>31.0009</td>\n",
       "      <td>127</td>\n",
       "      <td>256</td>\n",
       "      <td>383</td>\n",
       "    </tr>\n",
       "    <tr>\n",
       "      <th>9000</th>\n",
       "      <td>2012-08-17 09:00:00</td>\n",
       "      <td>3</td>\n",
       "      <td>0</td>\n",
       "      <td>1</td>\n",
       "      <td>1</td>\n",
       "      <td>28.70</td>\n",
       "      <td>12.12</td>\n",
       "      <td>58</td>\n",
       "      <td>7.0015</td>\n",
       "      <td>58</td>\n",
       "      <td>320</td>\n",
       "      <td>378</td>\n",
       "    </tr>\n",
       "    <tr>\n",
       "      <th>9013</th>\n",
       "      <td>2012-08-17 22:00:00</td>\n",
       "      <td>3</td>\n",
       "      <td>0</td>\n",
       "      <td>1</td>\n",
       "      <td>3</td>\n",
       "      <td>27.06</td>\n",
       "      <td>12.12</td>\n",
       "      <td>83</td>\n",
       "      <td>12.9980</td>\n",
       "      <td>43</td>\n",
       "      <td>170</td>\n",
       "      <td>213</td>\n",
       "    </tr>\n",
       "    <tr>\n",
       "      <th>9008</th>\n",
       "      <td>2012-08-17 17:00:00</td>\n",
       "      <td>3</td>\n",
       "      <td>0</td>\n",
       "      <td>1</td>\n",
       "      <td>1</td>\n",
       "      <td>33.62</td>\n",
       "      <td>12.12</td>\n",
       "      <td>36</td>\n",
       "      <td>22.0028</td>\n",
       "      <td>144</td>\n",
       "      <td>647</td>\n",
       "      <td>791</td>\n",
       "    </tr>\n",
       "    <tr>\n",
       "      <th>8994</th>\n",
       "      <td>2012-08-17 03:00:00</td>\n",
       "      <td>3</td>\n",
       "      <td>0</td>\n",
       "      <td>1</td>\n",
       "      <td>1</td>\n",
       "      <td>26.24</td>\n",
       "      <td>12.12</td>\n",
       "      <td>65</td>\n",
       "      <td>7.0015</td>\n",
       "      <td>0</td>\n",
       "      <td>6</td>\n",
       "      <td>6</td>\n",
       "    </tr>\n",
       "  </tbody>\n",
       "</table>\n",
       "</div>"
      ],
      "text/plain": [
       "                 datetime  season  holiday  workingday  weather   temp  atemp  \\\n",
       "8991  2012-08-17 00:00:00       3        0           1        1  27.88  12.12   \n",
       "8996  2012-08-17 05:00:00       3        0           1        1  26.24  12.12   \n",
       "9004  2012-08-17 13:00:00       3        0           1        1  34.44  12.12   \n",
       "8992  2012-08-17 01:00:00       3        0           1        1  27.06  12.12   \n",
       "9009  2012-08-17 18:00:00       3        0           1        2  33.62  12.12   \n",
       "8995  2012-08-17 04:00:00       3        0           1        1  26.24  12.12   \n",
       "9007  2012-08-17 16:00:00       3        0           1        2  34.44  12.12   \n",
       "9011  2012-08-17 20:00:00       3        0           1        2  29.52  12.12   \n",
       "8999  2012-08-17 08:00:00       3        0           1        1  27.88  12.12   \n",
       "9002  2012-08-17 11:00:00       3        0           1        1  31.16  12.12   \n",
       "9005  2012-08-17 14:00:00       3        0           1        1  35.26  12.12   \n",
       "8998  2012-08-17 07:00:00       3        0           1        1  26.24  12.12   \n",
       "8997  2012-08-17 06:00:00       3        0           1        1  25.42  12.12   \n",
       "9012  2012-08-17 21:00:00       3        0           1        2  27.88  12.12   \n",
       "9014  2012-08-17 23:00:00       3        0           1        3  26.24  12.12   \n",
       "9010  2012-08-17 19:00:00       3        0           1        2  30.34  12.12   \n",
       "8993  2012-08-17 02:00:00       3        0           1        1  27.06  12.12   \n",
       "9006  2012-08-17 15:00:00       3        0           1        1  35.26  12.12   \n",
       "9000  2012-08-17 09:00:00       3        0           1        1  28.70  12.12   \n",
       "9013  2012-08-17 22:00:00       3        0           1        3  27.06  12.12   \n",
       "9008  2012-08-17 17:00:00       3        0           1        1  33.62  12.12   \n",
       "8994  2012-08-17 03:00:00       3        0           1        1  26.24  12.12   \n",
       "\n",
       "      humidity  windspeed  casual  registered  count  \n",
       "8991        57    11.0014      21          67     88  \n",
       "8996        73     7.0015       2          34     36  \n",
       "9004        36    26.0027     103         254    357  \n",
       "8992        65     7.0015      16          38     54  \n",
       "9009        38    16.9979     108         561    669  \n",
       "8995        73    11.0014       0           9      9  \n",
       "9007        32    30.0026     116         372    488  \n",
       "9011        58    15.0013      97         262    359  \n",
       "8999        65     8.9981      43         625    668  \n",
       "9002        52    19.0012      98         205    303  \n",
       "9005        34    27.9993     128         200    328  \n",
       "8998        73     7.0015      11         368    379  \n",
       "8997        78     8.9981       6         151    157  \n",
       "9012        69    19.9995      57         198    255  \n",
       "9014        83    15.0013      21         100    121  \n",
       "9010        55    26.0027      88         403    491  \n",
       "8993        61     8.9981       4          15     19  \n",
       "9006        30    31.0009     127         256    383  \n",
       "9000        58     7.0015      58         320    378  \n",
       "9013        83    12.9980      43         170    213  \n",
       "9008        36    22.0028     144         647    791  \n",
       "8994        65     7.0015       0           6      6  "
      ]
     },
     "execution_count": 13,
     "metadata": {},
     "output_type": "execute_result"
    }
   ],
   "source": [
    "train_data[(train_data[\"temp\"]>25) &(train_data[\"temp\"]<40) & (train_data[\"atemp\"]>10) &(train_data[\"atemp\"]<20)]"
   ]
  },
  {
   "cell_type": "markdown",
   "id": "43109e10",
   "metadata": {},
   "source": [
    "## from  thisis distibutions i can say that  the relation between count and numeric columns is weak or not specific"
   ]
  },
  {
   "cell_type": "markdown",
   "id": "154d2eb9",
   "metadata": {},
   "source": [
    "## let me draw plot between count and categorical data \n"
   ]
  },
  {
   "cell_type": "code",
   "execution_count": 14,
   "id": "fd019d8c",
   "metadata": {},
   "outputs": [
    {
     "data": {
      "image/png": "[encoded data removed]",
      "text/plain": [
       "<Figure size 432x288 with 1 Axes>"
      ]
     },
     "metadata": {
      "needs_background": "light"
     },
     "output_type": "display_data"
    },
    {
     "data": {
      "text/plain": [
       "<AxesSubplot:xlabel='season', ylabel='count'>"
      ]
     },
     "execution_count": 14,
     "metadata": {},
     "output_type": "execute_result"
    },
    {
     "data": {
      "image/png": "[encoded data removed]",
      "text/plain": [
       "<Figure size 432x288 with 1 Axes>"
      ]
     },
     "metadata": {
      "needs_background": "light"
     },
     "output_type": "display_data"
    }
   ],
   "source": [
    "#season holiday workingday weather\n",
    "sns.boxplot(x=\"season\",y=\"count\",data=train_data)\n",
    "plt.show()\n",
    "sns.barplot(x=\"season\",y=\"count\",data=train_data)"
   ]
  },
  {
   "cell_type": "code",
   "execution_count": 15,
   "id": "06b6756d",
   "metadata": {},
   "outputs": [
    {
     "data": {
      "image/png": "[encoded data removed]",
      "text/plain": [
       "<Figure size 432x288 with 1 Axes>"
      ]
     },
     "metadata": {
      "needs_background": "light"
     },
     "output_type": "display_data"
    },
    {
     "data": {
      "text/plain": [
       "<AxesSubplot:xlabel='holiday', ylabel='count'>"
      ]
     },
     "execution_count": 15,
     "metadata": {},
     "output_type": "execute_result"
    },
    {
     "data": {
      "image/png": "[encoded data removed]",
      "text/plain": [
       "<Figure size 432x288 with 1 Axes>"
      ]
     },
     "metadata": {
      "needs_background": "light"
     },
     "output_type": "display_data"
    }
   ],
   "source": [
    "sns.boxplot(x=\"holiday\",y=\"count\",data=train_data)\n",
    "plt.show()\n",
    "sns.barplot(x=\"holiday\",y=\"count\",data=train_data)"
   ]
  },
  {
   "cell_type": "code",
   "execution_count": 16,
   "id": "2eeddcf8",
   "metadata": {},
   "outputs": [
    {
     "data": {
      "image/png": "[encoded data removed]",
      "text/plain": [
       "<Figure size 432x288 with 1 Axes>"
      ]
     },
     "metadata": {
      "needs_background": "light"
     },
     "output_type": "display_data"
    },
    {
     "data": {
      "text/plain": [
       "<AxesSubplot:xlabel='workingday', ylabel='count'>"
      ]
     },
     "execution_count": 16,
     "metadata": {},
     "output_type": "execute_result"
    },
    {
     "data": {
      "image/png": "[encoded data removed]",
      "text/plain": [
       "<Figure size 432x288 with 1 Axes>"
      ]
     },
     "metadata": {
      "needs_background": "light"
     },
     "output_type": "display_data"
    }
   ],
   "source": [
    "sns.boxplot(x=\"workingday\",y=\"count\",data=train_data)\n",
    "plt.show()\n",
    "sns.barplot(x=\"workingday\",y=\"count\",data=train_data)"
   ]
  },
  {
   "cell_type": "code",
   "execution_count": 17,
   "id": "d414f309",
   "metadata": {},
   "outputs": [
    {
     "data": {
      "image/png": "[encoded data removed]",
      "text/plain": [
       "<Figure size 432x288 with 1 Axes>"
      ]
     },
     "metadata": {
      "needs_background": "light"
     },
     "output_type": "display_data"
    },
    {
     "data": {
      "text/plain": [
       "<AxesSubplot:xlabel='weather', ylabel='count'>"
      ]
     },
     "execution_count": 17,
     "metadata": {},
     "output_type": "execute_result"
    },
    {
     "data": {
      "image/png": "[encoded data removed]",
      "text/plain": [
       "<Figure size 432x288 with 1 Axes>"
      ]
     },
     "metadata": {
      "needs_background": "light"
     },
     "output_type": "display_data"
    }
   ],
   "source": [
    "sns.boxplot(x=\"weather\",y=\"count\",data=train_data)\n",
    "plt.show()\n",
    "sns.barplot(x=\"weather\",y=\"count\",data=train_data)"
   ]
  },
  {
   "cell_type": "code",
   "execution_count": 18,
   "id": "48a649bf",
   "metadata": {},
   "outputs": [
    {
     "data": {
      "text/plain": [
       "<AxesSubplot:>"
      ]
     },
     "execution_count": 18,
     "metadata": {},
     "output_type": "execute_result"
    },
    {
     "data": {
      "image/png": "[encoded data removed]",
      "text/plain": [
       "<Figure size 720x504 with 2 Axes>"
      ]
     },
     "metadata": {
      "needs_background": "light"
     },
     "output_type": "display_data"
    }
   ],
   "source": [
    "### corrleation\n",
    "plt.figure(figsize=(10,7))\n",
    "sns.heatmap(train_data.corr(),annot=True)"
   ]
  },
  {
   "cell_type": "markdown",
   "id": "37671ba2",
   "metadata": {},
   "source": [
    "## 3- Data preparation and cleaning \n",
    "## from the eda we find that \n",
    "## 1- count have outliers and right skewed we want tearmenat that \n",
    "## 2- we want change scale of numerical column \n",
    "## 3- we can split datecolumn into (year-month-week-day-hour)\n"
   ]
  },
  {
   "cell_type": "code",
   "execution_count": 19,
   "id": "64729b47",
   "metadata": {},
   "outputs": [],
   "source": [
    "## converr date time column \n",
    "train_data[\"datetime\"]=pd.to_datetime(train_data[\"datetime\"])\n",
    "val_data[\"datetime\"]=pd.to_datetime(val_data[\"datetime\"])\n",
    "test_data[\"datetime\"]=pd.to_datetime(test_data[\"datetime\"])"
   ]
  },
  {
   "cell_type": "code",
   "execution_count": 20,
   "id": "b4154a07",
   "metadata": {},
   "outputs": [],
   "source": [
    "### create function to splite datatime into year month day day of week hour \n",
    "def split_datetime(df):\n",
    "    df[\"year\"]=df[\"datetime\"].apply([lambda t:t.year])\n",
    "    df[\"month\"]=df[\"datetime\"].apply([lambda t:t.month])\n",
    "    df[\"day\"]=df[\"datetime\"].apply([lambda t:t.day])\n",
    "    df[\"dayofweek\"]=df[\"datetime\"].apply([lambda t:t.dayofweek])\n",
    "    df[\"hour\"]=df[\"datetime\"].apply([lambda t:t.hour])\n",
    "    df.drop([\"datetime\"],axis=1,inplace=True)\n",
    "    return df"
   ]
  },
  {
   "cell_type": "code",
   "execution_count": 21,
   "id": "96f0a4df",
   "metadata": {},
   "outputs": [
    {
     "data": {
      "text/html": [
       "<div>\n",
       "<style scoped>\n",
       "    .dataframe tbody tr th:only-of-type {\n",
       "        vertical-align: middle;\n",
       "    }\n",
       "\n",
       "    .dataframe tbody tr th {\n",
       "        vertical-align: top;\n",
       "    }\n",
       "\n",
       "    .dataframe thead th {\n",
       "        text-align: right;\n",
       "    }\n",
       "</style>\n",
       "<table border=\"1\" class=\"dataframe\">\n",
       "  <thead>\n",
       "    <tr style=\"text-align: right;\">\n",
       "      <th></th>\n",
       "      <th>season</th>\n",
       "      <th>holiday</th>\n",
       "      <th>workingday</th>\n",
       "      <th>weather</th>\n",
       "      <th>temp</th>\n",
       "      <th>atemp</th>\n",
       "      <th>humidity</th>\n",
       "      <th>windspeed</th>\n",
       "      <th>year</th>\n",
       "      <th>month</th>\n",
       "      <th>day</th>\n",
       "      <th>dayofweek</th>\n",
       "      <th>hour</th>\n",
       "    </tr>\n",
       "  </thead>\n",
       "  <tbody>\n",
       "    <tr>\n",
       "      <th>0</th>\n",
       "      <td>1</td>\n",
       "      <td>0</td>\n",
       "      <td>1</td>\n",
       "      <td>1</td>\n",
       "      <td>10.66</td>\n",
       "      <td>11.365</td>\n",
       "      <td>56</td>\n",
       "      <td>26.0027</td>\n",
       "      <td>2011</td>\n",
       "      <td>1</td>\n",
       "      <td>20</td>\n",
       "      <td>3</td>\n",
       "      <td>0</td>\n",
       "    </tr>\n",
       "    <tr>\n",
       "      <th>1</th>\n",
       "      <td>1</td>\n",
       "      <td>0</td>\n",
       "      <td>1</td>\n",
       "      <td>1</td>\n",
       "      <td>10.66</td>\n",
       "      <td>13.635</td>\n",
       "      <td>56</td>\n",
       "      <td>0.0000</td>\n",
       "      <td>2011</td>\n",
       "      <td>1</td>\n",
       "      <td>20</td>\n",
       "      <td>3</td>\n",
       "      <td>1</td>\n",
       "    </tr>\n",
       "    <tr>\n",
       "      <th>2</th>\n",
       "      <td>1</td>\n",
       "      <td>0</td>\n",
       "      <td>1</td>\n",
       "      <td>1</td>\n",
       "      <td>10.66</td>\n",
       "      <td>13.635</td>\n",
       "      <td>56</td>\n",
       "      <td>0.0000</td>\n",
       "      <td>2011</td>\n",
       "      <td>1</td>\n",
       "      <td>20</td>\n",
       "      <td>3</td>\n",
       "      <td>2</td>\n",
       "    </tr>\n",
       "    <tr>\n",
       "      <th>3</th>\n",
       "      <td>1</td>\n",
       "      <td>0</td>\n",
       "      <td>1</td>\n",
       "      <td>1</td>\n",
       "      <td>10.66</td>\n",
       "      <td>12.880</td>\n",
       "      <td>56</td>\n",
       "      <td>11.0014</td>\n",
       "      <td>2011</td>\n",
       "      <td>1</td>\n",
       "      <td>20</td>\n",
       "      <td>3</td>\n",
       "      <td>3</td>\n",
       "    </tr>\n",
       "    <tr>\n",
       "      <th>4</th>\n",
       "      <td>1</td>\n",
       "      <td>0</td>\n",
       "      <td>1</td>\n",
       "      <td>1</td>\n",
       "      <td>10.66</td>\n",
       "      <td>12.880</td>\n",
       "      <td>56</td>\n",
       "      <td>11.0014</td>\n",
       "      <td>2011</td>\n",
       "      <td>1</td>\n",
       "      <td>20</td>\n",
       "      <td>3</td>\n",
       "      <td>4</td>\n",
       "    </tr>\n",
       "    <tr>\n",
       "      <th>...</th>\n",
       "      <td>...</td>\n",
       "      <td>...</td>\n",
       "      <td>...</td>\n",
       "      <td>...</td>\n",
       "      <td>...</td>\n",
       "      <td>...</td>\n",
       "      <td>...</td>\n",
       "      <td>...</td>\n",
       "      <td>...</td>\n",
       "      <td>...</td>\n",
       "      <td>...</td>\n",
       "      <td>...</td>\n",
       "      <td>...</td>\n",
       "    </tr>\n",
       "    <tr>\n",
       "      <th>6488</th>\n",
       "      <td>1</td>\n",
       "      <td>0</td>\n",
       "      <td>1</td>\n",
       "      <td>2</td>\n",
       "      <td>10.66</td>\n",
       "      <td>12.880</td>\n",
       "      <td>60</td>\n",
       "      <td>11.0014</td>\n",
       "      <td>2012</td>\n",
       "      <td>12</td>\n",
       "      <td>31</td>\n",
       "      <td>0</td>\n",
       "      <td>19</td>\n",
       "    </tr>\n",
       "    <tr>\n",
       "      <th>6489</th>\n",
       "      <td>1</td>\n",
       "      <td>0</td>\n",
       "      <td>1</td>\n",
       "      <td>2</td>\n",
       "      <td>10.66</td>\n",
       "      <td>12.880</td>\n",
       "      <td>60</td>\n",
       "      <td>11.0014</td>\n",
       "      <td>2012</td>\n",
       "      <td>12</td>\n",
       "      <td>31</td>\n",
       "      <td>0</td>\n",
       "      <td>20</td>\n",
       "    </tr>\n",
       "    <tr>\n",
       "      <th>6490</th>\n",
       "      <td>1</td>\n",
       "      <td>0</td>\n",
       "      <td>1</td>\n",
       "      <td>1</td>\n",
       "      <td>10.66</td>\n",
       "      <td>12.880</td>\n",
       "      <td>60</td>\n",
       "      <td>11.0014</td>\n",
       "      <td>2012</td>\n",
       "      <td>12</td>\n",
       "      <td>31</td>\n",
       "      <td>0</td>\n",
       "      <td>21</td>\n",
       "    </tr>\n",
       "    <tr>\n",
       "      <th>6491</th>\n",
       "      <td>1</td>\n",
       "      <td>0</td>\n",
       "      <td>1</td>\n",
       "      <td>1</td>\n",
       "      <td>10.66</td>\n",
       "      <td>13.635</td>\n",
       "      <td>56</td>\n",
       "      <td>8.9981</td>\n",
       "      <td>2012</td>\n",
       "      <td>12</td>\n",
       "      <td>31</td>\n",
       "      <td>0</td>\n",
       "      <td>22</td>\n",
       "    </tr>\n",
       "    <tr>\n",
       "      <th>6492</th>\n",
       "      <td>1</td>\n",
       "      <td>0</td>\n",
       "      <td>1</td>\n",
       "      <td>1</td>\n",
       "      <td>10.66</td>\n",
       "      <td>13.635</td>\n",
       "      <td>65</td>\n",
       "      <td>8.9981</td>\n",
       "      <td>2012</td>\n",
       "      <td>12</td>\n",
       "      <td>31</td>\n",
       "      <td>0</td>\n",
       "      <td>23</td>\n",
       "    </tr>\n",
       "  </tbody>\n",
       "</table>\n",
       "<p>6493 rows × 13 columns</p>\n",
       "</div>"
      ],
      "text/plain": [
       "      season  holiday  workingday  weather   temp   atemp  humidity  \\\n",
       "0          1        0           1        1  10.66  11.365        56   \n",
       "1          1        0           1        1  10.66  13.635        56   \n",
       "2          1        0           1        1  10.66  13.635        56   \n",
       "3          1        0           1        1  10.66  12.880        56   \n",
       "4          1        0           1        1  10.66  12.880        56   \n",
       "...      ...      ...         ...      ...    ...     ...       ...   \n",
       "6488       1        0           1        2  10.66  12.880        60   \n",
       "6489       1        0           1        2  10.66  12.880        60   \n",
       "6490       1        0           1        1  10.66  12.880        60   \n",
       "6491       1        0           1        1  10.66  13.635        56   \n",
       "6492       1        0           1        1  10.66  13.635        65   \n",
       "\n",
       "      windspeed  year  month  day  dayofweek  hour  \n",
       "0       26.0027  2011      1   20          3     0  \n",
       "1        0.0000  2011      1   20          3     1  \n",
       "2        0.0000  2011      1   20          3     2  \n",
       "3       11.0014  2011      1   20          3     3  \n",
       "4       11.0014  2011      1   20          3     4  \n",
       "...         ...   ...    ...  ...        ...   ...  \n",
       "6488    11.0014  2012     12   31          0    19  \n",
       "6489    11.0014  2012     12   31          0    20  \n",
       "6490    11.0014  2012     12   31          0    21  \n",
       "6491     8.9981  2012     12   31          0    22  \n",
       "6492     8.9981  2012     12   31          0    23  \n",
       "\n",
       "[6493 rows x 13 columns]"
      ]
     },
     "execution_count": 21,
     "metadata": {},
     "output_type": "execute_result"
    }
   ],
   "source": [
    "#### use function with data sets \n",
    "split_datetime(train_data)\n",
    "split_datetime(val_data)\n",
    "split_datetime(test_data)"
   ]
  },
  {
   "cell_type": "code",
   "execution_count": 22,
   "id": "21851ec8",
   "metadata": {},
   "outputs": [],
   "source": [
    "### drop casual registered from train and val data \n",
    "#train_data.drop([\"casual\",\"registered\"],axis=1,inplace=True)\n",
    "#val_data.drop([\"casual\",\"registered\"],axis=1,inplace=True)\n"
   ]
  },
  {
   "cell_type": "code",
   "execution_count": 23,
   "id": "57e34346",
   "metadata": {},
   "outputs": [
    {
     "data": {
      "text/html": [
       "<div>\n",
       "<style scoped>\n",
       "    .dataframe tbody tr th:only-of-type {\n",
       "        vertical-align: middle;\n",
       "    }\n",
       "\n",
       "    .dataframe tbody tr th {\n",
       "        vertical-align: top;\n",
       "    }\n",
       "\n",
       "    .dataframe thead th {\n",
       "        text-align: right;\n",
       "    }\n",
       "</style>\n",
       "<table border=\"1\" class=\"dataframe\">\n",
       "  <thead>\n",
       "    <tr style=\"text-align: right;\">\n",
       "      <th></th>\n",
       "      <th>season</th>\n",
       "      <th>holiday</th>\n",
       "      <th>workingday</th>\n",
       "      <th>weather</th>\n",
       "      <th>temp</th>\n",
       "      <th>atemp</th>\n",
       "      <th>humidity</th>\n",
       "      <th>windspeed</th>\n",
       "      <th>casual</th>\n",
       "      <th>registered</th>\n",
       "      <th>count</th>\n",
       "      <th>year</th>\n",
       "      <th>month</th>\n",
       "      <th>day</th>\n",
       "      <th>dayofweek</th>\n",
       "      <th>hour</th>\n",
       "    </tr>\n",
       "  </thead>\n",
       "  <tbody>\n",
       "    <tr>\n",
       "      <th>3662</th>\n",
       "      <td>3</td>\n",
       "      <td>0</td>\n",
       "      <td>0</td>\n",
       "      <td>1</td>\n",
       "      <td>28.70</td>\n",
       "      <td>32.575</td>\n",
       "      <td>61</td>\n",
       "      <td>15.0013</td>\n",
       "      <td>97</td>\n",
       "      <td>160</td>\n",
       "      <td>257</td>\n",
       "      <td>2011</td>\n",
       "      <td>9</td>\n",
       "      <td>3</td>\n",
       "      <td>5</td>\n",
       "      <td>12</td>\n",
       "    </tr>\n",
       "    <tr>\n",
       "      <th>8648</th>\n",
       "      <td>3</td>\n",
       "      <td>0</td>\n",
       "      <td>1</td>\n",
       "      <td>1</td>\n",
       "      <td>33.62</td>\n",
       "      <td>38.635</td>\n",
       "      <td>52</td>\n",
       "      <td>16.9979</td>\n",
       "      <td>90</td>\n",
       "      <td>775</td>\n",
       "      <td>865</td>\n",
       "      <td>2012</td>\n",
       "      <td>8</td>\n",
       "      <td>2</td>\n",
       "      <td>3</td>\n",
       "      <td>17</td>\n",
       "    </tr>\n",
       "    <tr>\n",
       "      <th>7053</th>\n",
       "      <td>2</td>\n",
       "      <td>0</td>\n",
       "      <td>1</td>\n",
       "      <td>1</td>\n",
       "      <td>12.30</td>\n",
       "      <td>14.395</td>\n",
       "      <td>65</td>\n",
       "      <td>16.9979</td>\n",
       "      <td>2</td>\n",
       "      <td>94</td>\n",
       "      <td>96</td>\n",
       "      <td>2012</td>\n",
       "      <td>4</td>\n",
       "      <td>12</td>\n",
       "      <td>3</td>\n",
       "      <td>6</td>\n",
       "    </tr>\n",
       "    <tr>\n",
       "      <th>2685</th>\n",
       "      <td>2</td>\n",
       "      <td>0</td>\n",
       "      <td>0</td>\n",
       "      <td>1</td>\n",
       "      <td>29.52</td>\n",
       "      <td>34.090</td>\n",
       "      <td>62</td>\n",
       "      <td>8.9981</td>\n",
       "      <td>94</td>\n",
       "      <td>217</td>\n",
       "      <td>311</td>\n",
       "      <td>2011</td>\n",
       "      <td>6</td>\n",
       "      <td>19</td>\n",
       "      <td>6</td>\n",
       "      <td>19</td>\n",
       "    </tr>\n",
       "    <tr>\n",
       "      <th>5927</th>\n",
       "      <td>1</td>\n",
       "      <td>0</td>\n",
       "      <td>1</td>\n",
       "      <td>1</td>\n",
       "      <td>10.66</td>\n",
       "      <td>12.880</td>\n",
       "      <td>60</td>\n",
       "      <td>15.0013</td>\n",
       "      <td>0</td>\n",
       "      <td>2</td>\n",
       "      <td>2</td>\n",
       "      <td>2012</td>\n",
       "      <td>2</td>\n",
       "      <td>3</td>\n",
       "      <td>4</td>\n",
       "      <td>4</td>\n",
       "    </tr>\n",
       "  </tbody>\n",
       "</table>\n",
       "</div>"
      ],
      "text/plain": [
       "      season  holiday  workingday  weather   temp   atemp  humidity  \\\n",
       "3662       3        0           0        1  28.70  32.575        61   \n",
       "8648       3        0           1        1  33.62  38.635        52   \n",
       "7053       2        0           1        1  12.30  14.395        65   \n",
       "2685       2        0           0        1  29.52  34.090        62   \n",
       "5927       1        0           1        1  10.66  12.880        60   \n",
       "\n",
       "      windspeed  casual  registered  count  year  month  day  dayofweek  hour  \n",
       "3662    15.0013      97         160    257  2011      9    3          5    12  \n",
       "8648    16.9979      90         775    865  2012      8    2          3    17  \n",
       "7053    16.9979       2          94     96  2012      4   12          3     6  \n",
       "2685     8.9981      94         217    311  2011      6   19          6    19  \n",
       "5927    15.0013       0           2      2  2012      2    3          4     4  "
      ]
     },
     "execution_count": 23,
     "metadata": {},
     "output_type": "execute_result"
    }
   ],
   "source": [
    "train_data.head(5)"
   ]
  },
  {
   "cell_type": "code",
   "execution_count": 24,
   "id": "34f08ed9",
   "metadata": {},
   "outputs": [
    {
     "data": {
      "text/plain": [
       "<AxesSubplot:xlabel='hour', ylabel='count'>"
      ]
     },
     "execution_count": 24,
     "metadata": {},
     "output_type": "execute_result"
    },
    {
     "data": {
      "image/png": "[encoded data removed]",
      "text/plain": [
       "<Figure size 1800x360 with 3 Axes>"
      ]
     },
     "metadata": {
      "needs_background": "light"
     },
     "output_type": "display_data"
    }
   ],
   "source": [
    "### analysis date time which year have more count which month which hour ofdayofweeak \n",
    "fig,axes=plt.subplots(nrows=1,ncols=3)\n",
    "fig.set_size_inches(25,5)\n",
    "sns.barplot(x=\"year\",y=\"count\",data=train_data,ax=axes[0])\n",
    "sns.barplot(x=\"month\",y=\"count\",data=train_data,ax=axes[1])\n",
    "sns.pointplot(x=\"hour\",y=\"count\",hue=\"dayofweek\",data=train_data,ax=axes[2])"
   ]
  },
  {
   "cell_type": "markdown",
   "id": "cbb17f33",
   "metadata": {},
   "source": [
    "## from this charts we find that \n",
    "## 1- avg of count in 2012 > 2011 \n",
    "## 2- almostly summer months have highst counts \n",
    "## 3- From 3 chart we can notice that at the first day of the week monday at mornig the count is very high and also at the first hour of evining  when people go to work and Back from work \n",
    "## sat,sun day this the low days of count(bike sharing) this week end !!"
   ]
  },
  {
   "cell_type": "code",
   "execution_count": 25,
   "id": "e56afe9c",
   "metadata": {},
   "outputs": [
    {
     "data": {
      "text/plain": [
       "<AxesSubplot:xlabel='count', ylabel='Count'>"
      ]
     },
     "execution_count": 25,
     "metadata": {},
     "output_type": "execute_result"
    },
    {
     "data": {
      "image/png": "[encoded data removed]",
      "text/plain": [
       "<Figure size 432x288 with 1 Axes>"
      ]
     },
     "metadata": {
      "needs_background": "light"
     },
     "output_type": "display_data"
    }
   ],
   "source": [
    "### now i want to look at count skewed \n",
    "sns.histplot(x=\"count\",data=train_data)"
   ]
  },
  {
   "cell_type": "code",
   "execution_count": 26,
   "id": "5562c55d",
   "metadata": {},
   "outputs": [
    {
     "data": {
      "text/plain": [
       "<AxesSubplot:xlabel='count', ylabel='Count'>"
      ]
     },
     "execution_count": 26,
     "metadata": {},
     "output_type": "execute_result"
    },
    {
     "data": {
      "image/png": "[encoded data removed]",
      "text/plain": [
       "<Figure size 432x288 with 1 Axes>"
      ]
     },
     "metadata": {
      "needs_background": "light"
     },
     "output_type": "display_data"
    }
   ],
   "source": [
    "### we can tearmenat it by get log of count \n",
    "train_data[\"count\"]=np.log1p(train_data[\"count\"])\n",
    "val_data[\"count\"]=np.log1p(val_data[\"count\"])\n",
    "\n",
    "sns.histplot(x=\"count\",data=train_data,kde=True)"
   ]
  },
  {
   "cell_type": "code",
   "execution_count": 27,
   "id": "3914148e",
   "metadata": {},
   "outputs": [
    {
     "data": {
      "text/plain": [
       "<AxesSubplot:xlabel='count', ylabel='Count'>"
      ]
     },
     "execution_count": 27,
     "metadata": {},
     "output_type": "execute_result"
    },
    {
     "data": {
      "image/png": "[encoded data removed]",
      "text/plain": [
       "<Figure size 432x288 with 1 Axes>"
      ]
     },
     "metadata": {
      "needs_background": "light"
     },
     "output_type": "display_data"
    }
   ],
   "source": [
    "## rremove outlier more than 3 std \n",
    "from scipy.stats import zscore \n",
    "train_data=train_data[abs(zscore(train_data['count']))<3]\n",
    "val_data=val_data[abs(zscore(val_data['count']))<3]\n",
    "sns.histplot(x=\"count\",data=train_data,kde=True)"
   ]
  },
  {
   "cell_type": "code",
   "execution_count": 28,
   "id": "ac8085a9",
   "metadata": {},
   "outputs": [
    {
     "data": {
      "text/plain": [
       "<AxesSubplot:xlabel='count'>"
      ]
     },
     "execution_count": 28,
     "metadata": {},
     "output_type": "execute_result"
    },
    {
     "data": {
      "image/png": "[encoded data removed]",
      "text/plain": [
       "<Figure size 432x288 with 1 Axes>"
      ]
     },
     "metadata": {
      "needs_background": "light"
     },
     "output_type": "display_data"
    }
   ],
   "source": [
    "sns.boxplot(x=\"count\",data=train_data)"
   ]
  },
  {
   "cell_type": "code",
   "execution_count": 29,
   "id": "5fddab70",
   "metadata": {},
   "outputs": [],
   "source": [
    "## let me drop atemp !! \n",
    "train_data.drop([\"atemp\"],axis=1,inplace=True)\n",
    "val_data.drop([\"atemp\"],axis=1,inplace=True)\n",
    "test_data.drop([\"atemp\"],axis=1,inplace=True)"
   ]
  },
  {
   "cell_type": "code",
   "execution_count": 30,
   "id": "404f9e34",
   "metadata": {},
   "outputs": [],
   "source": [
    "### scaling of numeric columns \n",
    "from sklearn.preprocessing import MinMaxScaler\n",
    "\n",
    "def scaling(df):\n",
    "    scaler=MinMaxScaler()\n",
    "    cols=[\"temp\",\"humidity\",\"windspeed\"]\n",
    "    df[cols]=scaler.fit_transform(df[cols])\n",
    "    return df \n",
    "\n"
   ]
  },
  {
   "cell_type": "code",
   "execution_count": 31,
   "id": "556366de",
   "metadata": {},
   "outputs": [
    {
     "data": {
      "text/html": [
       "<div>\n",
       "<style scoped>\n",
       "    .dataframe tbody tr th:only-of-type {\n",
       "        vertical-align: middle;\n",
       "    }\n",
       "\n",
       "    .dataframe tbody tr th {\n",
       "        vertical-align: top;\n",
       "    }\n",
       "\n",
       "    .dataframe thead th {\n",
       "        text-align: right;\n",
       "    }\n",
       "</style>\n",
       "<table border=\"1\" class=\"dataframe\">\n",
       "  <thead>\n",
       "    <tr style=\"text-align: right;\">\n",
       "      <th></th>\n",
       "      <th>season</th>\n",
       "      <th>holiday</th>\n",
       "      <th>workingday</th>\n",
       "      <th>weather</th>\n",
       "      <th>temp</th>\n",
       "      <th>humidity</th>\n",
       "      <th>windspeed</th>\n",
       "      <th>year</th>\n",
       "      <th>month</th>\n",
       "      <th>day</th>\n",
       "      <th>dayofweek</th>\n",
       "      <th>hour</th>\n",
       "    </tr>\n",
       "  </thead>\n",
       "  <tbody>\n",
       "    <tr>\n",
       "      <th>0</th>\n",
       "      <td>1</td>\n",
       "      <td>0</td>\n",
       "      <td>1</td>\n",
       "      <td>1</td>\n",
       "      <td>0.25</td>\n",
       "      <td>0.476190</td>\n",
       "      <td>0.464346</td>\n",
       "      <td>2011</td>\n",
       "      <td>1</td>\n",
       "      <td>20</td>\n",
       "      <td>3</td>\n",
       "      <td>0</td>\n",
       "    </tr>\n",
       "    <tr>\n",
       "      <th>1</th>\n",
       "      <td>1</td>\n",
       "      <td>0</td>\n",
       "      <td>1</td>\n",
       "      <td>1</td>\n",
       "      <td>0.25</td>\n",
       "      <td>0.476190</td>\n",
       "      <td>0.000000</td>\n",
       "      <td>2011</td>\n",
       "      <td>1</td>\n",
       "      <td>20</td>\n",
       "      <td>3</td>\n",
       "      <td>1</td>\n",
       "    </tr>\n",
       "    <tr>\n",
       "      <th>2</th>\n",
       "      <td>1</td>\n",
       "      <td>0</td>\n",
       "      <td>1</td>\n",
       "      <td>1</td>\n",
       "      <td>0.25</td>\n",
       "      <td>0.476190</td>\n",
       "      <td>0.000000</td>\n",
       "      <td>2011</td>\n",
       "      <td>1</td>\n",
       "      <td>20</td>\n",
       "      <td>3</td>\n",
       "      <td>2</td>\n",
       "    </tr>\n",
       "    <tr>\n",
       "      <th>3</th>\n",
       "      <td>1</td>\n",
       "      <td>0</td>\n",
       "      <td>1</td>\n",
       "      <td>1</td>\n",
       "      <td>0.25</td>\n",
       "      <td>0.476190</td>\n",
       "      <td>0.196458</td>\n",
       "      <td>2011</td>\n",
       "      <td>1</td>\n",
       "      <td>20</td>\n",
       "      <td>3</td>\n",
       "      <td>3</td>\n",
       "    </tr>\n",
       "    <tr>\n",
       "      <th>4</th>\n",
       "      <td>1</td>\n",
       "      <td>0</td>\n",
       "      <td>1</td>\n",
       "      <td>1</td>\n",
       "      <td>0.25</td>\n",
       "      <td>0.476190</td>\n",
       "      <td>0.196458</td>\n",
       "      <td>2011</td>\n",
       "      <td>1</td>\n",
       "      <td>20</td>\n",
       "      <td>3</td>\n",
       "      <td>4</td>\n",
       "    </tr>\n",
       "    <tr>\n",
       "      <th>...</th>\n",
       "      <td>...</td>\n",
       "      <td>...</td>\n",
       "      <td>...</td>\n",
       "      <td>...</td>\n",
       "      <td>...</td>\n",
       "      <td>...</td>\n",
       "      <td>...</td>\n",
       "      <td>...</td>\n",
       "      <td>...</td>\n",
       "      <td>...</td>\n",
       "      <td>...</td>\n",
       "      <td>...</td>\n",
       "    </tr>\n",
       "    <tr>\n",
       "      <th>6488</th>\n",
       "      <td>1</td>\n",
       "      <td>0</td>\n",
       "      <td>1</td>\n",
       "      <td>2</td>\n",
       "      <td>0.25</td>\n",
       "      <td>0.523810</td>\n",
       "      <td>0.196458</td>\n",
       "      <td>2012</td>\n",
       "      <td>12</td>\n",
       "      <td>31</td>\n",
       "      <td>0</td>\n",
       "      <td>19</td>\n",
       "    </tr>\n",
       "    <tr>\n",
       "      <th>6489</th>\n",
       "      <td>1</td>\n",
       "      <td>0</td>\n",
       "      <td>1</td>\n",
       "      <td>2</td>\n",
       "      <td>0.25</td>\n",
       "      <td>0.523810</td>\n",
       "      <td>0.196458</td>\n",
       "      <td>2012</td>\n",
       "      <td>12</td>\n",
       "      <td>31</td>\n",
       "      <td>0</td>\n",
       "      <td>20</td>\n",
       "    </tr>\n",
       "    <tr>\n",
       "      <th>6490</th>\n",
       "      <td>1</td>\n",
       "      <td>0</td>\n",
       "      <td>1</td>\n",
       "      <td>1</td>\n",
       "      <td>0.25</td>\n",
       "      <td>0.523810</td>\n",
       "      <td>0.196458</td>\n",
       "      <td>2012</td>\n",
       "      <td>12</td>\n",
       "      <td>31</td>\n",
       "      <td>0</td>\n",
       "      <td>21</td>\n",
       "    </tr>\n",
       "    <tr>\n",
       "      <th>6491</th>\n",
       "      <td>1</td>\n",
       "      <td>0</td>\n",
       "      <td>1</td>\n",
       "      <td>1</td>\n",
       "      <td>0.25</td>\n",
       "      <td>0.476190</td>\n",
       "      <td>0.160684</td>\n",
       "      <td>2012</td>\n",
       "      <td>12</td>\n",
       "      <td>31</td>\n",
       "      <td>0</td>\n",
       "      <td>22</td>\n",
       "    </tr>\n",
       "    <tr>\n",
       "      <th>6492</th>\n",
       "      <td>1</td>\n",
       "      <td>0</td>\n",
       "      <td>1</td>\n",
       "      <td>1</td>\n",
       "      <td>0.25</td>\n",
       "      <td>0.583333</td>\n",
       "      <td>0.160684</td>\n",
       "      <td>2012</td>\n",
       "      <td>12</td>\n",
       "      <td>31</td>\n",
       "      <td>0</td>\n",
       "      <td>23</td>\n",
       "    </tr>\n",
       "  </tbody>\n",
       "</table>\n",
       "<p>6493 rows × 12 columns</p>\n",
       "</div>"
      ],
      "text/plain": [
       "      season  holiday  workingday  weather  temp  humidity  windspeed  year  \\\n",
       "0          1        0           1        1  0.25  0.476190   0.464346  2011   \n",
       "1          1        0           1        1  0.25  0.476190   0.000000  2011   \n",
       "2          1        0           1        1  0.25  0.476190   0.000000  2011   \n",
       "3          1        0           1        1  0.25  0.476190   0.196458  2011   \n",
       "4          1        0           1        1  0.25  0.476190   0.196458  2011   \n",
       "...      ...      ...         ...      ...   ...       ...        ...   ...   \n",
       "6488       1        0           1        2  0.25  0.523810   0.196458  2012   \n",
       "6489       1        0           1        2  0.25  0.523810   0.196458  2012   \n",
       "6490       1        0           1        1  0.25  0.523810   0.196458  2012   \n",
       "6491       1        0           1        1  0.25  0.476190   0.160684  2012   \n",
       "6492       1        0           1        1  0.25  0.583333   0.160684  2012   \n",
       "\n",
       "      month  day  dayofweek  hour  \n",
       "0         1   20          3     0  \n",
       "1         1   20          3     1  \n",
       "2         1   20          3     2  \n",
       "3         1   20          3     3  \n",
       "4         1   20          3     4  \n",
       "...     ...  ...        ...   ...  \n",
       "6488     12   31          0    19  \n",
       "6489     12   31          0    20  \n",
       "6490     12   31          0    21  \n",
       "6491     12   31          0    22  \n",
       "6492     12   31          0    23  \n",
       "\n",
       "[6493 rows x 12 columns]"
      ]
     },
     "execution_count": 31,
     "metadata": {},
     "output_type": "execute_result"
    }
   ],
   "source": [
    "scaling(train_data)\n",
    "scaling(val_data)\n",
    "scaling(test_data)"
   ]
  },
  {
   "cell_type": "code",
   "execution_count": 32,
   "id": "05e7e392",
   "metadata": {},
   "outputs": [],
   "source": [
    "train_data=pd.get_dummies(train_data,columns=['season'],prefix=['season'])\n",
    "val_data=pd.get_dummies(val_data,columns=['season'],prefix=['season'])\n",
    "test_data=pd.get_dummies(test_data,columns=['season'],prefix=['holiday'])\n",
    "train_data=pd.get_dummies(train_data,columns=['holiday'],prefix=['holiday'])\n",
    "val_data=pd.get_dummies(val_data,columns=['holiday'],prefix=['holiday'])\n",
    "test_data=pd.get_dummies(test_data,columns=['holiday'],prefix=['holiday'])\n",
    "train_data=pd.get_dummies(train_data,columns=['workingday'],prefix=['workingday'])\n",
    "val_data=pd.get_dummies(val_data,columns=['workingday'],prefix=['workingday'])\n",
    "test_data=pd.get_dummies(test_data,columns=['workingday'],prefix=['workingday'])\n",
    "\n",
    "train_data=pd.get_dummies(train_data,columns=['year'],prefix=['year'])\n",
    "val_data=pd.get_dummies(val_data,columns=['year'],prefix=['year'])\n",
    "test_data=pd.get_dummies(test_data,columns=['year'],prefix=['year'])\n",
    "\n",
    "train_data=pd.get_dummies(train_data,columns=['month'],prefix=['month'])\n",
    "val_data=pd.get_dummies(val_data,columns=['month'],prefix=['month'])\n",
    "test_data=pd.get_dummies(test_data,columns=['month'],prefix=['month'])\n",
    "\n",
    "train_data=pd.get_dummies(train_data,columns=['hour'],prefix=['hour'])\n",
    "val_data=pd.get_dummies(val_data,columns=['hour'],prefix=['hour'])\n",
    "test_data=pd.get_dummies(test_data,columns=['hour'],prefix=['hour'])\n",
    "\n",
    "train_data.drop([\"day\",\"dayofweek\"],axis=1,inplace=True)\n",
    "val_data.drop([\"day\",\"dayofweek\"],axis=1,inplace=True)\n",
    "test_data.drop([\"day\",\"dayofweek\"],axis=1,inplace=True)\n"
   ]
  },
  {
   "cell_type": "code",
   "execution_count": 33,
   "id": "95bdec43",
   "metadata": {},
   "outputs": [
    {
     "data": {
      "text/plain": [
       "<AxesSubplot:xlabel='windspeed', ylabel='count'>"
      ]
     },
     "execution_count": 33,
     "metadata": {},
     "output_type": "execute_result"
    },
    {
     "data": {
      "image/png": "[encoded data removed]",
      "text/plain": [
       "<Figure size 432x288 with 1 Axes>"
      ]
     },
     "metadata": {
      "needs_background": "light"
     },
     "output_type": "display_data"
    }
   ],
   "source": [
    "sns.scatterplot(x=\"windspeed\",y=\"count\",data=train_data)"
   ]
  },
  {
   "cell_type": "code",
   "execution_count": 34,
   "id": "9160faaf",
   "metadata": {},
   "outputs": [],
   "source": [
    "### cliping \n",
    "train_data.loc[train_data[\"windspeed\"]>.6,\"windspeed\"]=.6"
   ]
  },
  {
   "cell_type": "code",
   "execution_count": 35,
   "id": "cadd8c57",
   "metadata": {},
   "outputs": [
    {
     "data": {
      "text/plain": [
       "<AxesSubplot:xlabel='windspeed', ylabel='count'>"
      ]
     },
     "execution_count": 35,
     "metadata": {},
     "output_type": "execute_result"
    },
    {
     "data": {
      "image/png": "[encoded data removed]",
      "text/plain": [
       "<Figure size 432x288 with 1 Axes>"
      ]
     },
     "metadata": {
      "needs_background": "light"
     },
     "output_type": "display_data"
    }
   ],
   "source": [
    "sns.scatterplot(x=\"windspeed\",y=\"count\",data=train_data)"
   ]
  },
  {
   "cell_type": "code",
   "execution_count": 36,
   "id": "599ab715",
   "metadata": {},
   "outputs": [
    {
     "data": {
      "text/plain": [
       "1    5772\n",
       "2    2273\n",
       "3     662\n",
       "4       1\n",
       "Name: weather, dtype: int64"
      ]
     },
     "execution_count": 36,
     "metadata": {},
     "output_type": "execute_result"
    }
   ],
   "source": [
    "### weather column\n",
    "train_data[\"weather\"].value_counts()"
   ]
  },
  {
   "cell_type": "code",
   "execution_count": 37,
   "id": "fbf9d0e5",
   "metadata": {},
   "outputs": [],
   "source": [
    "## we can use cliping to make 4 3\n",
    "train_data.loc[train_data[\"weather\"]==4,\"weather\"]=3"
   ]
  },
  {
   "cell_type": "code",
   "execution_count": 38,
   "id": "25920b1e",
   "metadata": {},
   "outputs": [
    {
     "data": {
      "text/plain": [
       "1    5772\n",
       "2    2273\n",
       "3     663\n",
       "Name: weather, dtype: int64"
      ]
     },
     "execution_count": 38,
     "metadata": {},
     "output_type": "execute_result"
    }
   ],
   "source": [
    "train_data[\"weather\"].value_counts()"
   ]
  },
  {
   "cell_type": "code",
   "execution_count": 39,
   "id": "fcfa858d",
   "metadata": {},
   "outputs": [
    {
     "data": {
      "text/html": [
       "<div>\n",
       "<style scoped>\n",
       "    .dataframe tbody tr th:only-of-type {\n",
       "        vertical-align: middle;\n",
       "    }\n",
       "\n",
       "    .dataframe tbody tr th {\n",
       "        vertical-align: top;\n",
       "    }\n",
       "\n",
       "    .dataframe thead th {\n",
       "        text-align: right;\n",
       "    }\n",
       "</style>\n",
       "<table border=\"1\" class=\"dataframe\">\n",
       "  <thead>\n",
       "    <tr style=\"text-align: right;\">\n",
       "      <th></th>\n",
       "      <th>weather</th>\n",
       "      <th>temp</th>\n",
       "      <th>humidity</th>\n",
       "      <th>windspeed</th>\n",
       "      <th>casual</th>\n",
       "      <th>registered</th>\n",
       "      <th>count</th>\n",
       "      <th>season_1</th>\n",
       "      <th>season_2</th>\n",
       "      <th>season_3</th>\n",
       "      <th>...</th>\n",
       "      <th>hour_14</th>\n",
       "      <th>hour_15</th>\n",
       "      <th>hour_16</th>\n",
       "      <th>hour_17</th>\n",
       "      <th>hour_18</th>\n",
       "      <th>hour_19</th>\n",
       "      <th>hour_20</th>\n",
       "      <th>hour_21</th>\n",
       "      <th>hour_22</th>\n",
       "      <th>hour_23</th>\n",
       "    </tr>\n",
       "  </thead>\n",
       "  <tbody>\n",
       "    <tr>\n",
       "      <th>3662</th>\n",
       "      <td>1</td>\n",
       "      <td>0.693878</td>\n",
       "      <td>0.61</td>\n",
       "      <td>0.263195</td>\n",
       "      <td>97</td>\n",
       "      <td>160</td>\n",
       "      <td>5.552960</td>\n",
       "      <td>0</td>\n",
       "      <td>0</td>\n",
       "      <td>1</td>\n",
       "      <td>...</td>\n",
       "      <td>0</td>\n",
       "      <td>0</td>\n",
       "      <td>0</td>\n",
       "      <td>0</td>\n",
       "      <td>0</td>\n",
       "      <td>0</td>\n",
       "      <td>0</td>\n",
       "      <td>0</td>\n",
       "      <td>0</td>\n",
       "      <td>0</td>\n",
       "    </tr>\n",
       "    <tr>\n",
       "      <th>8648</th>\n",
       "      <td>1</td>\n",
       "      <td>0.816327</td>\n",
       "      <td>0.52</td>\n",
       "      <td>0.298225</td>\n",
       "      <td>90</td>\n",
       "      <td>775</td>\n",
       "      <td>6.763885</td>\n",
       "      <td>0</td>\n",
       "      <td>0</td>\n",
       "      <td>1</td>\n",
       "      <td>...</td>\n",
       "      <td>0</td>\n",
       "      <td>0</td>\n",
       "      <td>0</td>\n",
       "      <td>1</td>\n",
       "      <td>0</td>\n",
       "      <td>0</td>\n",
       "      <td>0</td>\n",
       "      <td>0</td>\n",
       "      <td>0</td>\n",
       "      <td>0</td>\n",
       "    </tr>\n",
       "    <tr>\n",
       "      <th>7053</th>\n",
       "      <td>1</td>\n",
       "      <td>0.285714</td>\n",
       "      <td>0.65</td>\n",
       "      <td>0.298225</td>\n",
       "      <td>2</td>\n",
       "      <td>94</td>\n",
       "      <td>4.574711</td>\n",
       "      <td>0</td>\n",
       "      <td>1</td>\n",
       "      <td>0</td>\n",
       "      <td>...</td>\n",
       "      <td>0</td>\n",
       "      <td>0</td>\n",
       "      <td>0</td>\n",
       "      <td>0</td>\n",
       "      <td>0</td>\n",
       "      <td>0</td>\n",
       "      <td>0</td>\n",
       "      <td>0</td>\n",
       "      <td>0</td>\n",
       "      <td>0</td>\n",
       "    </tr>\n",
       "    <tr>\n",
       "      <th>2685</th>\n",
       "      <td>1</td>\n",
       "      <td>0.714286</td>\n",
       "      <td>0.62</td>\n",
       "      <td>0.157870</td>\n",
       "      <td>94</td>\n",
       "      <td>217</td>\n",
       "      <td>5.743003</td>\n",
       "      <td>0</td>\n",
       "      <td>1</td>\n",
       "      <td>0</td>\n",
       "      <td>...</td>\n",
       "      <td>0</td>\n",
       "      <td>0</td>\n",
       "      <td>0</td>\n",
       "      <td>0</td>\n",
       "      <td>0</td>\n",
       "      <td>1</td>\n",
       "      <td>0</td>\n",
       "      <td>0</td>\n",
       "      <td>0</td>\n",
       "      <td>0</td>\n",
       "    </tr>\n",
       "    <tr>\n",
       "      <th>5927</th>\n",
       "      <td>1</td>\n",
       "      <td>0.244898</td>\n",
       "      <td>0.60</td>\n",
       "      <td>0.263195</td>\n",
       "      <td>0</td>\n",
       "      <td>2</td>\n",
       "      <td>1.098612</td>\n",
       "      <td>1</td>\n",
       "      <td>0</td>\n",
       "      <td>0</td>\n",
       "      <td>...</td>\n",
       "      <td>0</td>\n",
       "      <td>0</td>\n",
       "      <td>0</td>\n",
       "      <td>0</td>\n",
       "      <td>0</td>\n",
       "      <td>0</td>\n",
       "      <td>0</td>\n",
       "      <td>0</td>\n",
       "      <td>0</td>\n",
       "      <td>0</td>\n",
       "    </tr>\n",
       "  </tbody>\n",
       "</table>\n",
       "<p>5 rows × 53 columns</p>\n",
       "</div>"
      ],
      "text/plain": [
       "      weather      temp  humidity  windspeed  casual  registered     count  \\\n",
       "3662        1  0.693878      0.61   0.263195      97         160  5.552960   \n",
       "8648        1  0.816327      0.52   0.298225      90         775  6.763885   \n",
       "7053        1  0.285714      0.65   0.298225       2          94  4.574711   \n",
       "2685        1  0.714286      0.62   0.157870      94         217  5.743003   \n",
       "5927        1  0.244898      0.60   0.263195       0           2  1.098612   \n",
       "\n",
       "      season_1  season_2  season_3  ...  hour_14  hour_15  hour_16  hour_17  \\\n",
       "3662         0         0         1  ...        0        0        0        0   \n",
       "8648         0         0         1  ...        0        0        0        1   \n",
       "7053         0         1         0  ...        0        0        0        0   \n",
       "2685         0         1         0  ...        0        0        0        0   \n",
       "5927         1         0         0  ...        0        0        0        0   \n",
       "\n",
       "      hour_18  hour_19  hour_20  hour_21  hour_22  hour_23  \n",
       "3662        0        0        0        0        0        0  \n",
       "8648        0        0        0        0        0        0  \n",
       "7053        0        0        0        0        0        0  \n",
       "2685        0        1        0        0        0        0  \n",
       "5927        0        0        0        0        0        0  \n",
       "\n",
       "[5 rows x 53 columns]"
      ]
     },
     "execution_count": 39,
     "metadata": {},
     "output_type": "execute_result"
    }
   ],
   "source": [
    "train_data.head(5)"
   ]
  },
  {
   "cell_type": "code",
   "execution_count": 40,
   "id": "345a5dc9",
   "metadata": {},
   "outputs": [
    {
     "data": {
      "text/html": [
       "<div>\n",
       "<style scoped>\n",
       "    .dataframe tbody tr th:only-of-type {\n",
       "        vertical-align: middle;\n",
       "    }\n",
       "\n",
       "    .dataframe tbody tr th {\n",
       "        vertical-align: top;\n",
       "    }\n",
       "\n",
       "    .dataframe thead th {\n",
       "        text-align: right;\n",
       "    }\n",
       "</style>\n",
       "<table border=\"1\" class=\"dataframe\">\n",
       "  <thead>\n",
       "    <tr style=\"text-align: right;\">\n",
       "      <th></th>\n",
       "      <th>weather</th>\n",
       "      <th>temp</th>\n",
       "      <th>humidity</th>\n",
       "      <th>season_1</th>\n",
       "      <th>season_2</th>\n",
       "      <th>season_3</th>\n",
       "      <th>season_4</th>\n",
       "      <th>holiday_0</th>\n",
       "      <th>holiday_1</th>\n",
       "      <th>workingday_0</th>\n",
       "      <th>...</th>\n",
       "      <th>hour_14</th>\n",
       "      <th>hour_15</th>\n",
       "      <th>hour_16</th>\n",
       "      <th>hour_17</th>\n",
       "      <th>hour_18</th>\n",
       "      <th>hour_19</th>\n",
       "      <th>hour_20</th>\n",
       "      <th>hour_21</th>\n",
       "      <th>hour_22</th>\n",
       "      <th>hour_23</th>\n",
       "    </tr>\n",
       "  </thead>\n",
       "  <tbody>\n",
       "    <tr>\n",
       "      <th>6638</th>\n",
       "      <td>1</td>\n",
       "      <td>0.595745</td>\n",
       "      <td>0.56</td>\n",
       "      <td>1</td>\n",
       "      <td>0</td>\n",
       "      <td>0</td>\n",
       "      <td>0</td>\n",
       "      <td>1</td>\n",
       "      <td>0</td>\n",
       "      <td>0</td>\n",
       "      <td>...</td>\n",
       "      <td>0</td>\n",
       "      <td>0</td>\n",
       "      <td>0</td>\n",
       "      <td>0</td>\n",
       "      <td>0</td>\n",
       "      <td>0</td>\n",
       "      <td>0</td>\n",
       "      <td>1</td>\n",
       "      <td>0</td>\n",
       "      <td>0</td>\n",
       "    </tr>\n",
       "    <tr>\n",
       "      <th>7975</th>\n",
       "      <td>2</td>\n",
       "      <td>0.680851</td>\n",
       "      <td>0.89</td>\n",
       "      <td>0</td>\n",
       "      <td>1</td>\n",
       "      <td>0</td>\n",
       "      <td>0</td>\n",
       "      <td>1</td>\n",
       "      <td>0</td>\n",
       "      <td>0</td>\n",
       "      <td>...</td>\n",
       "      <td>0</td>\n",
       "      <td>0</td>\n",
       "      <td>1</td>\n",
       "      <td>0</td>\n",
       "      <td>0</td>\n",
       "      <td>0</td>\n",
       "      <td>0</td>\n",
       "      <td>0</td>\n",
       "      <td>0</td>\n",
       "      <td>0</td>\n",
       "    </tr>\n",
       "    <tr>\n",
       "      <th>5915</th>\n",
       "      <td>1</td>\n",
       "      <td>0.468085</td>\n",
       "      <td>0.55</td>\n",
       "      <td>1</td>\n",
       "      <td>0</td>\n",
       "      <td>0</td>\n",
       "      <td>0</td>\n",
       "      <td>1</td>\n",
       "      <td>0</td>\n",
       "      <td>0</td>\n",
       "      <td>...</td>\n",
       "      <td>0</td>\n",
       "      <td>0</td>\n",
       "      <td>1</td>\n",
       "      <td>0</td>\n",
       "      <td>0</td>\n",
       "      <td>0</td>\n",
       "      <td>0</td>\n",
       "      <td>0</td>\n",
       "      <td>0</td>\n",
       "      <td>0</td>\n",
       "    </tr>\n",
       "    <tr>\n",
       "      <th>8050</th>\n",
       "      <td>1</td>\n",
       "      <td>0.723404</td>\n",
       "      <td>0.42</td>\n",
       "      <td>0</td>\n",
       "      <td>1</td>\n",
       "      <td>0</td>\n",
       "      <td>0</td>\n",
       "      <td>1</td>\n",
       "      <td>0</td>\n",
       "      <td>0</td>\n",
       "      <td>...</td>\n",
       "      <td>0</td>\n",
       "      <td>0</td>\n",
       "      <td>0</td>\n",
       "      <td>0</td>\n",
       "      <td>0</td>\n",
       "      <td>1</td>\n",
       "      <td>0</td>\n",
       "      <td>0</td>\n",
       "      <td>0</td>\n",
       "      <td>0</td>\n",
       "    </tr>\n",
       "    <tr>\n",
       "      <th>5894</th>\n",
       "      <td>1</td>\n",
       "      <td>0.553191</td>\n",
       "      <td>0.52</td>\n",
       "      <td>1</td>\n",
       "      <td>0</td>\n",
       "      <td>0</td>\n",
       "      <td>0</td>\n",
       "      <td>1</td>\n",
       "      <td>0</td>\n",
       "      <td>0</td>\n",
       "      <td>...</td>\n",
       "      <td>0</td>\n",
       "      <td>0</td>\n",
       "      <td>0</td>\n",
       "      <td>0</td>\n",
       "      <td>0</td>\n",
       "      <td>1</td>\n",
       "      <td>0</td>\n",
       "      <td>0</td>\n",
       "      <td>0</td>\n",
       "      <td>0</td>\n",
       "    </tr>\n",
       "    <tr>\n",
       "      <th>...</th>\n",
       "      <td>...</td>\n",
       "      <td>...</td>\n",
       "      <td>...</td>\n",
       "      <td>...</td>\n",
       "      <td>...</td>\n",
       "      <td>...</td>\n",
       "      <td>...</td>\n",
       "      <td>...</td>\n",
       "      <td>...</td>\n",
       "      <td>...</td>\n",
       "      <td>...</td>\n",
       "      <td>...</td>\n",
       "      <td>...</td>\n",
       "      <td>...</td>\n",
       "      <td>...</td>\n",
       "      <td>...</td>\n",
       "      <td>...</td>\n",
       "      <td>...</td>\n",
       "      <td>...</td>\n",
       "      <td>...</td>\n",
       "      <td>...</td>\n",
       "    </tr>\n",
       "    <tr>\n",
       "      <th>10833</th>\n",
       "      <td>2</td>\n",
       "      <td>0.425532</td>\n",
       "      <td>0.88</td>\n",
       "      <td>0</td>\n",
       "      <td>0</td>\n",
       "      <td>0</td>\n",
       "      <td>1</td>\n",
       "      <td>1</td>\n",
       "      <td>0</td>\n",
       "      <td>0</td>\n",
       "      <td>...</td>\n",
       "      <td>0</td>\n",
       "      <td>0</td>\n",
       "      <td>0</td>\n",
       "      <td>0</td>\n",
       "      <td>0</td>\n",
       "      <td>1</td>\n",
       "      <td>0</td>\n",
       "      <td>0</td>\n",
       "      <td>0</td>\n",
       "      <td>0</td>\n",
       "    </tr>\n",
       "    <tr>\n",
       "      <th>5519</th>\n",
       "      <td>1</td>\n",
       "      <td>0.191489</td>\n",
       "      <td>0.51</td>\n",
       "      <td>1</td>\n",
       "      <td>0</td>\n",
       "      <td>0</td>\n",
       "      <td>0</td>\n",
       "      <td>1</td>\n",
       "      <td>0</td>\n",
       "      <td>0</td>\n",
       "      <td>...</td>\n",
       "      <td>0</td>\n",
       "      <td>0</td>\n",
       "      <td>0</td>\n",
       "      <td>0</td>\n",
       "      <td>0</td>\n",
       "      <td>0</td>\n",
       "      <td>0</td>\n",
       "      <td>0</td>\n",
       "      <td>0</td>\n",
       "      <td>0</td>\n",
       "    </tr>\n",
       "    <tr>\n",
       "      <th>8217</th>\n",
       "      <td>2</td>\n",
       "      <td>0.893617</td>\n",
       "      <td>0.30</td>\n",
       "      <td>0</td>\n",
       "      <td>0</td>\n",
       "      <td>1</td>\n",
       "      <td>0</td>\n",
       "      <td>1</td>\n",
       "      <td>0</td>\n",
       "      <td>0</td>\n",
       "      <td>...</td>\n",
       "      <td>0</td>\n",
       "      <td>0</td>\n",
       "      <td>0</td>\n",
       "      <td>0</td>\n",
       "      <td>1</td>\n",
       "      <td>0</td>\n",
       "      <td>0</td>\n",
       "      <td>0</td>\n",
       "      <td>0</td>\n",
       "      <td>0</td>\n",
       "    </tr>\n",
       "    <tr>\n",
       "      <th>5916</th>\n",
       "      <td>1</td>\n",
       "      <td>0.425532</td>\n",
       "      <td>0.54</td>\n",
       "      <td>1</td>\n",
       "      <td>0</td>\n",
       "      <td>0</td>\n",
       "      <td>0</td>\n",
       "      <td>1</td>\n",
       "      <td>0</td>\n",
       "      <td>0</td>\n",
       "      <td>...</td>\n",
       "      <td>0</td>\n",
       "      <td>0</td>\n",
       "      <td>0</td>\n",
       "      <td>1</td>\n",
       "      <td>0</td>\n",
       "      <td>0</td>\n",
       "      <td>0</td>\n",
       "      <td>0</td>\n",
       "      <td>0</td>\n",
       "      <td>0</td>\n",
       "    </tr>\n",
       "    <tr>\n",
       "      <th>4630</th>\n",
       "      <td>1</td>\n",
       "      <td>0.276596</td>\n",
       "      <td>0.75</td>\n",
       "      <td>0</td>\n",
       "      <td>0</td>\n",
       "      <td>0</td>\n",
       "      <td>1</td>\n",
       "      <td>1</td>\n",
       "      <td>0</td>\n",
       "      <td>1</td>\n",
       "      <td>...</td>\n",
       "      <td>0</td>\n",
       "      <td>0</td>\n",
       "      <td>0</td>\n",
       "      <td>0</td>\n",
       "      <td>0</td>\n",
       "      <td>0</td>\n",
       "      <td>0</td>\n",
       "      <td>0</td>\n",
       "      <td>0</td>\n",
       "      <td>0</td>\n",
       "    </tr>\n",
       "  </tbody>\n",
       "</table>\n",
       "<p>2178 rows × 49 columns</p>\n",
       "</div>"
      ],
      "text/plain": [
       "       weather      temp  humidity  season_1  season_2  season_3  season_4  \\\n",
       "6638         1  0.595745      0.56         1         0         0         0   \n",
       "7975         2  0.680851      0.89         0         1         0         0   \n",
       "5915         1  0.468085      0.55         1         0         0         0   \n",
       "8050         1  0.723404      0.42         0         1         0         0   \n",
       "5894         1  0.553191      0.52         1         0         0         0   \n",
       "...        ...       ...       ...       ...       ...       ...       ...   \n",
       "10833        2  0.425532      0.88         0         0         0         1   \n",
       "5519         1  0.191489      0.51         1         0         0         0   \n",
       "8217         2  0.893617      0.30         0         0         1         0   \n",
       "5916         1  0.425532      0.54         1         0         0         0   \n",
       "4630         1  0.276596      0.75         0         0         0         1   \n",
       "\n",
       "       holiday_0  holiday_1  workingday_0  ...  hour_14  hour_15  hour_16  \\\n",
       "6638           1          0             0  ...        0        0        0   \n",
       "7975           1          0             0  ...        0        0        1   \n",
       "5915           1          0             0  ...        0        0        1   \n",
       "8050           1          0             0  ...        0        0        0   \n",
       "5894           1          0             0  ...        0        0        0   \n",
       "...          ...        ...           ...  ...      ...      ...      ...   \n",
       "10833          1          0             0  ...        0        0        0   \n",
       "5519           1          0             0  ...        0        0        0   \n",
       "8217           1          0             0  ...        0        0        0   \n",
       "5916           1          0             0  ...        0        0        0   \n",
       "4630           1          0             1  ...        0        0        0   \n",
       "\n",
       "       hour_17  hour_18  hour_19  hour_20  hour_21  hour_22  hour_23  \n",
       "6638         0        0        0        0        1        0        0  \n",
       "7975         0        0        0        0        0        0        0  \n",
       "5915         0        0        0        0        0        0        0  \n",
       "8050         0        0        1        0        0        0        0  \n",
       "5894         0        0        1        0        0        0        0  \n",
       "...        ...      ...      ...      ...      ...      ...      ...  \n",
       "10833        0        0        1        0        0        0        0  \n",
       "5519         0        0        0        0        0        0        0  \n",
       "8217         0        1        0        0        0        0        0  \n",
       "5916         1        0        0        0        0        0        0  \n",
       "4630         0        0        0        0        0        0        0  \n",
       "\n",
       "[2178 rows x 49 columns]"
      ]
     },
     "execution_count": 40,
     "metadata": {},
     "output_type": "execute_result"
    }
   ],
   "source": [
    "val_x=val_data.drop([\"count\",\"registered\",\"casual\",\"windspeed\"],axis=1)\n",
    "val_y=val_data[\"count\"]\n",
    "val_x"
   ]
  },
  {
   "cell_type": "markdown",
   "id": "dcfe27cd",
   "metadata": {},
   "source": [
    "## model selection"
   ]
  },
  {
   "cell_type": "markdown",
   "id": "ea272979",
   "metadata": {},
   "source": [
    "# 1- Linear Regression"
   ]
  },
  {
   "cell_type": "code",
   "execution_count": 41,
   "id": "4e953153",
   "metadata": {},
   "outputs": [
    {
     "data": {
      "text/plain": [
       "82.91720630714829"
      ]
     },
     "execution_count": 41,
     "metadata": {},
     "output_type": "execute_result"
    }
   ],
   "source": [
    "### split data \n",
    "train_x=train_data.drop([\"count\",\"registered\",\"casual\",\"windspeed\"],axis=1)\n",
    "train_y=train_data[\"count\"]\n",
    "\n",
    "\n",
    "### linear regression model\n",
    "from sklearn.linear_model import LinearRegression \n",
    "mlrm=LinearRegression()\n",
    "mlrm.fit(train_x,train_y)\n",
    "mlrm.score(train_x,train_y)*100"
   ]
  },
  {
   "cell_type": "code",
   "execution_count": 42,
   "id": "52729267",
   "metadata": {},
   "outputs": [
    {
     "data": {
      "text/plain": [
       "82.52387528229286"
      ]
     },
     "execution_count": 42,
     "metadata": {},
     "output_type": "execute_result"
    }
   ],
   "source": [
    "mlrm.score(val_x,val_y)*100"
   ]
  },
  {
   "cell_type": "code",
   "execution_count": 43,
   "id": "0d364133",
   "metadata": {},
   "outputs": [
    {
     "data": {
      "text/plain": [
       "0.018973165173834464"
      ]
     },
     "execution_count": 43,
     "metadata": {},
     "output_type": "execute_result"
    }
   ],
   "source": [
    "y_train_predict =mlrm.predict(train_x)\n",
    "y_val_predict=mlrm.predict(val_x)\n",
    "\n",
    "from sklearn.metrics import mean_squared_log_error\n",
    "mean_squared_log_error(train_y,y_train_predict)"
   ]
  },
  {
   "cell_type": "code",
   "execution_count": 44,
   "id": "33a9394b",
   "metadata": {},
   "outputs": [],
   "source": [
    "test_data=test_data.drop([\"windspeed\"],axis=1)"
   ]
  },
  {
   "cell_type": "code",
   "execution_count": 46,
   "id": "b45c3466",
   "metadata": {},
   "outputs": [
    {
     "name": "stderr",
     "output_type": "stream",
     "text": [
      "C:\\Users\\ALNOUR\\anaconda3\\lib\\site-packages\\sklearn\\base.py:493: FutureWarning: The feature names should match those that were passed during fit. Starting version 1.2, an error will be raised.\n",
      "Feature names unseen at fit time:\n",
      "- holiday_2\n",
      "- holiday_3\n",
      "- holiday_4\n",
      "Feature names seen at fit time, yet now missing:\n",
      "- season_1\n",
      "- season_2\n",
      "- season_3\n",
      "- season_4\n",
      "\n",
      "  warnings.warn(message, FutureWarning)\n"
     ]
    }
   ],
   "source": [
    "test_predict=mlrm.predict(test_data)"
   ]
  },
  {
   "cell_type": "code",
   "execution_count": 47,
   "id": "8e830d19",
   "metadata": {},
   "outputs": [
    {
     "data": {
      "text/plain": [
       "array([2.88256836e+00, 2.28247070e+00, 1.77319336e+00, ...,\n",
       "       7.25349003e+11, 7.25349003e+11, 7.25349003e+11])"
      ]
     },
     "execution_count": 47,
     "metadata": {},
     "output_type": "execute_result"
    }
   ],
   "source": [
    "test_predict"
   ]
  },
  {
   "cell_type": "code",
   "execution_count": 48,
   "id": "65fedf59",
   "metadata": {},
   "outputs": [],
   "source": [
    "y_test=pd.DataFrame(test_predict)\n",
    "datetime=pd.DataFrame(test_data2[\"datetime\"])\n",
    "submm=pd.concat([datetime,y_test],axis=1)\n",
    "submm.to_csv(r\"D:\\ITI_DATA_Analysis\\Ml\\Project\\Data Set2 Bike Sharng\\submmlr7.csv\",index=False)"
   ]
  },
  {
   "cell_type": "markdown",
   "id": "91bdda49",
   "metadata": {},
   "source": [
    "## DecisionTreeRegressor"
   ]
  },
  {
   "cell_type": "code",
   "execution_count": 49,
   "id": "5f36eb76",
   "metadata": {},
   "outputs": [
    {
     "data": {
      "text/plain": [
       "99.9021158444838"
      ]
     },
     "execution_count": 49,
     "metadata": {},
     "output_type": "execute_result"
    }
   ],
   "source": [
    "from sklearn.tree import DecisionTreeClassifier, DecisionTreeRegressor\n",
    "\n",
    "\n",
    "dt=DecisionTreeRegressor()\n",
    "dt.fit(train_x,train_y)\n",
    "dt.score(train_x,train_y)*100"
   ]
  },
  {
   "cell_type": "code",
   "execution_count": 50,
   "id": "7b26290e",
   "metadata": {},
   "outputs": [
    {
     "data": {
      "text/plain": [
       "88.88297619795496"
      ]
     },
     "execution_count": 50,
     "metadata": {},
     "output_type": "execute_result"
    }
   ],
   "source": [
    "dt.score(val_x,val_y)*100"
   ]
  },
  {
   "cell_type": "code",
   "execution_count": 51,
   "id": "466e6bbb",
   "metadata": {},
   "outputs": [
    {
     "data": {
      "text/plain": [
       "0.00015637707359659022"
      ]
     },
     "execution_count": 51,
     "metadata": {},
     "output_type": "execute_result"
    }
   ],
   "source": [
    "y_train_predict =dt.predict(train_x)\n",
    "y_val_predict=dt.predict(val_x)\n",
    "\n",
    "from sklearn.metrics import mean_squared_log_error\n",
    "mean_squared_log_error(train_y,y_train_predict)"
   ]
  },
  {
   "cell_type": "code",
   "execution_count": 52,
   "id": "53511fbb",
   "metadata": {},
   "outputs": [
    {
     "name": "stderr",
     "output_type": "stream",
     "text": [
      "C:\\Users\\ALNOUR\\anaconda3\\lib\\site-packages\\sklearn\\base.py:493: FutureWarning: The feature names should match those that were passed during fit. Starting version 1.2, an error will be raised.\n",
      "Feature names unseen at fit time:\n",
      "- holiday_2\n",
      "- holiday_3\n",
      "- holiday_4\n",
      "Feature names seen at fit time, yet now missing:\n",
      "- season_1\n",
      "- season_2\n",
      "- season_3\n",
      "- season_4\n",
      "\n",
      "  warnings.warn(message, FutureWarning)\n"
     ]
    },
    {
     "data": {
      "text/plain": [
       "array([2.77258872, 1.79175947, 1.09861229, ..., 4.58496748, 4.51085951,\n",
       "       4.04305127])"
      ]
     },
     "execution_count": 52,
     "metadata": {},
     "output_type": "execute_result"
    }
   ],
   "source": [
    "test_dt_predict=dt.predict(test_data)\n",
    "test_dt_predict"
   ]
  },
  {
   "cell_type": "code",
   "execution_count": 53,
   "id": "e9dce3ed",
   "metadata": {},
   "outputs": [],
   "source": [
    "test_data2['datetime'] = pd.to_datetime(test_data2['datetime'])"
   ]
  },
  {
   "cell_type": "code",
   "execution_count": 54,
   "id": "1e98e73a",
   "metadata": {},
   "outputs": [],
   "source": [
    "y_test=pd.DataFrame(test_dt_predict)\n",
    "datetime=pd.DataFrame(test_data2[\"datetime\"])\n",
    "submm=pd.concat([datetime,y_test],axis=1)\n",
    "submm.to_csv(r\"D:\\ITI_DATA_Analysis\\Ml\\Project\\Data Set2 Bike Sharng\\submmdt12.csv\",index=False)"
   ]
  },
  {
   "cell_type": "markdown",
   "id": "d381e536",
   "metadata": {},
   "source": [
    "## RandomForestRegressor"
   ]
  },
  {
   "cell_type": "code",
   "execution_count": 56,
   "id": "452a644d",
   "metadata": {},
   "outputs": [],
   "source": [
    "from sklearn.ensemble import RandomForestRegressor"
   ]
  },
  {
   "cell_type": "code",
   "execution_count": 68,
   "id": "e4785366",
   "metadata": {},
   "outputs": [
    {
     "name": "stdout",
     "output_type": "stream",
     "text": [
      "the mean_squared_log_error is of val :  0.009646632003329297\n",
      "Mean squared error:  0.1320028712021679\n"
     ]
    }
   ],
   "source": [
    "rf = RandomForestRegressor(n_estimators=100)\n",
    "\n",
    "# Train the model on the training data\n",
    "rf.fit(train_x, train_y)\n",
    "\n",
    "# Make predictions on the testing data\n",
    "y_pred = rf.predict(val_x)\n",
    "\n",
    "from sklearn.metrics import mean_squared_log_error\n",
    "print(\"the mean_squared_log_error is of val : \", mean_squared_log_error(val_y, y_pred))\n",
    "# Calculate the mean squared error of the predictions\n",
    "mse = mean_squared_error(val_y, y_pred)\n",
    "print(\"Mean squared error: \", mse)"
   ]
  },
  {
   "cell_type": "code",
   "execution_count": 62,
   "id": "dad050bd",
   "metadata": {},
   "outputs": [
    {
     "data": {
      "text/plain": [
       "99.11995159421784"
      ]
     },
     "execution_count": 62,
     "metadata": {},
     "output_type": "execute_result"
    }
   ],
   "source": [
    "rf.score(train_x,train_y)*100"
   ]
  },
  {
   "cell_type": "code",
   "execution_count": 63,
   "id": "5b257ed8",
   "metadata": {},
   "outputs": [
    {
     "data": {
      "text/plain": [
       "93.6482799305325"
      ]
     },
     "execution_count": 63,
     "metadata": {},
     "output_type": "execute_result"
    }
   ],
   "source": [
    "rf.score(val_x,val_y)*100"
   ]
  },
  {
   "cell_type": "code",
   "execution_count": 65,
   "id": "302106e1",
   "metadata": {},
   "outputs": [
    {
     "name": "stderr",
     "output_type": "stream",
     "text": [
      "C:\\Users\\ALNOUR\\anaconda3\\lib\\site-packages\\sklearn\\base.py:493: FutureWarning: The feature names should match those that were passed during fit. Starting version 1.2, an error will be raised.\n",
      "Feature names unseen at fit time:\n",
      "- holiday_2\n",
      "- holiday_3\n",
      "- holiday_4\n",
      "Feature names seen at fit time, yet now missing:\n",
      "- season_1\n",
      "- season_2\n",
      "- season_3\n",
      "- season_4\n",
      "\n",
      "  warnings.warn(message, FutureWarning)\n"
     ]
    }
   ],
   "source": [
    "y_pred = rf.predict(test_data)"
   ]
  },
  {
   "cell_type": "code",
   "execution_count": 66,
   "id": "1665c3e7",
   "metadata": {},
   "outputs": [],
   "source": [
    "y_test=pd.DataFrame(y_pred)\n",
    "datetime=pd.DataFrame(test_data2[\"datetime\"])\n",
    "submm=pd.concat([datetime,y_test],axis=1)\n",
    "submm.to_csv(r\"D:\\ITI_DATA_Analysis\\Ml\\Project\\Data Set2 Bike Sharng\\submmdRRF5.csv\",index=False)"
   ]
  },
  {
   "cell_type": "markdown",
   "id": "9d4c5085",
   "metadata": {},
   "source": [
    "## the best model is Random forest model "
   ]
  },
  {
   "cell_type": "code",
   "execution_count": null,
   "id": "f9b349ba",
   "metadata": {},
   "outputs": [],
   "source": []
  }
 ],
 "metadata": {
  "kernelspec": {
   "display_name": "Python 3 (ipykernel)",
   "language": "python",
   "name": "python3"
  },
  "language_info": {
   "codemirror_mode": {
    "name": "ipython",
    "version": 3
   },
   "file_extension": ".py",
   "mimetype": "text/x-python",
   "name": "python",
   "nbconvert_exporter": "python",
   "pygments_lexer": "ipython3",
   "version": "3.9.12"
  }
 },
 "nbformat": 4,
 "nbformat_minor": 5
}
